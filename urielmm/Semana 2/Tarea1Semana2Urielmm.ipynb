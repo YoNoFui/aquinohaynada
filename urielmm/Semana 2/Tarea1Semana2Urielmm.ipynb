{
 "cells": [
  {
   "cell_type": "markdown",
   "metadata": {},
   "source": [
    "## La entrada \"a\" recibe el texto de entrada y \"c\" el caracter que se desea omitir del conteo, para este ejemplo se omite \" \" "
   ]
  },
  {
   "cell_type": "code",
   "execution_count": 27,
   "metadata": {},
   "outputs": [],
   "source": [
    "texto1 = \"cuando cuentes cuentos cuenta cuantos cuentos cuentas\"\n",
    "texto2 = \"cuando cuentes cuentos cuenta cuantos cuentos cuentas por que si no cuentas cuantos cuentos cuentas nunca sabras cuantos cuentos sabes contar\""
   ]
  },
  {
   "cell_type": "code",
   "execution_count": 31,
   "metadata": {},
   "outputs": [],
   "source": [
    "def charcount(a,c):\n",
    "    Uniq_key = []\n",
    "    Count =[]\n",
    "    \n",
    "    for i in a:\n",
    "        if i!= c:\n",
    "            if i in Uniq_key:\n",
    "                    Count[Uniq_key.index(i)]+=1\n",
    "            else:\n",
    "                Uniq_key.append(i)\n",
    "                Count.append(1)\n",
    "    return [[Uniq_key[i],Count[i]] for i in range(len(Uniq_key))]"
   ]
  },
  {
   "cell_type": "code",
   "execution_count": 32,
   "metadata": {},
   "outputs": [
    {
     "data": {
      "text/plain": [
       "[['c', 7],\n",
       " ['u', 7],\n",
       " ['a', 4],\n",
       " ['n', 7],\n",
       " ['d', 1],\n",
       " ['o', 4],\n",
       " ['e', 6],\n",
       " ['t', 6],\n",
       " ['s', 5]]"
      ]
     },
     "execution_count": 32,
     "metadata": {},
     "output_type": "execute_result"
    }
   ],
   "source": [
    "charcount(texto1,' ')"
   ]
  },
  {
   "cell_type": "code",
   "execution_count": 33,
   "metadata": {},
   "outputs": [
    {
     "data": {
      "text/plain": [
       "[['c', 15],\n",
       " ['u', 15],\n",
       " ['a', 13],\n",
       " ['n', 17],\n",
       " ['d', 1],\n",
       " ['o', 11],\n",
       " ['e', 12],\n",
       " ['t', 13],\n",
       " ['s', 16],\n",
       " ['p', 1],\n",
       " ['r', 3],\n",
       " ['q', 1],\n",
       " ['i', 1],\n",
       " ['b', 2]]"
      ]
     },
     "execution_count": 33,
     "metadata": {},
     "output_type": "execute_result"
    }
   ],
   "source": [
    "charcount(texto2,' ')"
   ]
  }
 ],
 "metadata": {
  "kernelspec": {
   "display_name": "Python 3",
   "language": "python",
   "name": "python3"
  },
  "language_info": {
   "codemirror_mode": {
    "name": "ipython",
    "version": 3
   },
   "file_extension": ".py",
   "mimetype": "text/x-python",
   "name": "python",
   "nbconvert_exporter": "python",
   "pygments_lexer": "ipython3",
   "version": "3.6.4"
  }
 },
 "nbformat": 4,
 "nbformat_minor": 2
}
