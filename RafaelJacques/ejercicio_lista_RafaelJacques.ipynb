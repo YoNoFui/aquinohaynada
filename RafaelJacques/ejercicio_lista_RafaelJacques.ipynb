{
 "cells": [
  {
   "cell_type": "code",
   "execution_count": 4,
   "metadata": {},
   "outputs": [
    {
     "name": "stdout",
     "output_type": "stream",
     "text": [
      "c 7\n",
      "u 7\n",
      "a 4\n",
      "n 7\n",
      "d 1\n",
      "o 4\n",
      "e 6\n",
      "t 6\n",
      "s 5\n"
     ]
    }
   ],
   "source": [
    "cadena='cuando cuentes cuentos cuenta cuantos cuentos cuentas'\n",
    "lista=[]\n",
    "for i in range(len(cadena)):\n",
    "    if cadena[i] not in lista and cadena[i]!=' ':\n",
    "        lista.append(cadena[i])\n",
    "for j in range(len(lista)):\n",
    "    contador=cadena.count(lista[j])\n",
    "    print(lista[j],contador)"
   ]
  },
  {
   "cell_type": "code",
   "execution_count": null,
   "metadata": {},
   "outputs": [],
   "source": []
  }
 ],
 "metadata": {
  "kernelspec": {
   "display_name": "Python 3",
   "language": "python",
   "name": "python3"
  },
  "language_info": {
   "codemirror_mode": {
    "name": "ipython",
    "version": 3
   },
   "file_extension": ".py",
   "mimetype": "text/x-python",
   "name": "python",
   "nbconvert_exporter": "python",
   "pygments_lexer": "ipython3",
   "version": "3.6.5"
  }
 },
 "nbformat": 4,
 "nbformat_minor": 2
}
