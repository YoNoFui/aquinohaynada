{
 "cells": [
  {
   "cell_type": "markdown",
   "metadata": {},
   "source": [
    "# <center> ¡Bienvenidos a la Semana 2! </center>\n",
    "\n",
    "### Para esta tarea se siguen casi mismos lineamientos empleados en la Tarea de Vacaciones, es decir, se debe crear un directorio que se llama \"Tarea Semana 2\" y dentro debe almacenarse este notebook con la nomenclatura con la salvedad de que si se trata de una pregunta de implementación se debe colocar en ese mismo ejercicio la resolución y si se aborda una pregunta abierta se debe colocar la fuente.\n",
    "\n",
    "### De estas últimas todas deben colocarse en Markdown (siguiendo los lineamientos de visualización) o de lo contrario no se valdrá el crédito."
   ]
  },
  {
   "cell_type": "code",
   "execution_count": 1,
   "metadata": {},
   "outputs": [
    {
     "name": "stdout",
     "output_type": "stream",
     "text": [
      "1 2 3 4 5 \n",
      "7 8 9 10 \n",
      "12 13 14 15 \n",
      "17 18 19 20 \n"
     ]
    }
   ],
   "source": [
    "#Ejercicio 1\n",
    "#A partir de la siguiente matriz:\n",
    "\n",
    "matriz = [[1,2,3,4,5],\n",
    "          [6,7,8,9,10],\n",
    "          [11,12,13,14,15],\n",
    "          [16,17,18,19,20]]\n",
    "\n",
    "\"\"\"\n",
    "Imprima los elementos de esta manera:\n",
    "\n",
    "1 2 3 4 5\n",
    "6 7 8 9 10\n",
    "11 12 13 14 15\n",
    "16 17 18 19 20\n",
    "\n",
    "Usando solamente un ciclo (while, for); no hay restricción de if-else, breaks, etc.\n",
    "\"\"\"\n",
    "\n",
    "\n",
    "cadena = \"\"\n",
    "x = 0\n",
    "i = 0\n",
    "\n",
    "while x <= len(matriz):\n",
    "    cadena += str(matriz[i][x]) + \" \"\n",
    "    if x == len(matriz):\n",
    "        print(cadena)\n",
    "        cadena = \"\"\n",
    "        i +=1\n",
    "        x = 0\n",
    "    if i == len(matriz):\n",
    "        x = len(matriz)\n",
    "    x+=1"
   ]
  },
  {
   "cell_type": "markdown",
   "metadata": {},
   "source": [
    "## <center> Ejercicio 2. ¿A qué se le conoce como evaluación perezosa?, ¿Python aplica esta característica?. Toda la respuesta alineada a la derecha. </center>\n",
    "\n",
    "<div style=\"text-align: right\"> \n",
    "    Es una estrategia de evaluacion que retras el calculo de una expresion hasta que su valor sea necesario, y que tambien evita repetir la evaluacion en caso de ser necesario en posteiores ocaciones, esto puede reducir el tiempo de ejecucion de ciertas funciones de forma exponencial.\n",
    "    <br>\n",
    "    <br>\n",
    "    Python si aplica la evaluacion perezosa\n",
    "    \n",
    "    <br>\n",
    "    https://www.goconqr.com/en/p/2613378?dont_count=true&frame=true&fs=true\n",
    "    </div>\n",
    "\n",
    "\n"
   ]
  },
  {
   "cell_type": "code",
   "execution_count": 1,
   "metadata": {},
   "outputs": [
    {
     "name": "stdout",
     "output_type": "stream",
     "text": [
      "En algun lugar de La Mancha de cuyo nombre no quiero acordarme, o ha mucho tiempo que vivia un hidalgo de los de lanza en astillero, adarga antigua, rocin flaco y galgo corredor.\n",
      "EnAlgunLugarDeLaManchaDeCuyoNombreNoQuieroAcordarmeOHaMuchoTiempoQueViviaUnHidalgoDeLosDeLanzaEnAstilleroAdargaAntiguaRocinFlacoYGalgoCorredor.\n"
     ]
    }
   ],
   "source": [
    "#Ejercicio 3\n",
    "\n",
    "\"\"\"\n",
    "En general en los lenguajes de programación una de las prácticas recomendadas para nombrar ya sea variables o funciones es\n",
    "el \"Camel Case\" el cual consiste en sustituir posibles espacios con letras mayúsculas (la primera letra de la frase por lo \n",
    "regular no se toma en cuenta), por ejemplo:\n",
    "\n",
    "este es el nombre de mi variable => esteEsElNombreDeMiVariable\n",
    "aqui esta otro nombre para la variable => aquiEstaOtroNombreParaLaVariable\n",
    "\n",
    "¿Por qué Camel? porque la combinación de mayúsculas y minúsculas simulan la joroba de un camello (dato curioso debería de ser\n",
    "un dromedario y no un camello porque el camello tiene una joroba y el dromedario dos ;))\n",
    "\n",
    "Entonces, para este ejercicio teniendo en cuenta esta cadena:\n",
    "\n",
    "En algun lugar de La Mancha de cuyo nombre no quiero acordarme, o ha mucho tiempo que vivia un hidalgo de los de lanza en \n",
    "astillero, adarga antigua, rocin flaco y galgo corredor.\n",
    "\n",
    "Se debe convertir bajo la nomenclatura Camel Case.\n",
    "Para este ejercicio en particular la primera palabra de la frase se deja intacta mientras que los signos de puntuación \n",
    "(exceptuando el último) se deben remover.\n",
    "\n",
    "Sugerencias: las funciones lower() & upper() convierten una letra a minúsculas y mayúsculas respectivamente, si\n",
    "se da el caso de que ya estaban convertidas a los tipos que se deseaban transformar no arroja error.\n",
    "\n",
    "Por otra parte las funciones islower() & isupper() indican si una letra está en su modalidad minúscula o mayúscula\n",
    "respectivamente.\n",
    "\"\"\"\n",
    "\n",
    "cadena = \"En algun lugar de La Mancha de cuyo nombre no quiero acordarme, o ha mucho tiempo que vivia un hidalgo de los de lanza en astillero, adarga antigua, rocin flaco y galgo corredor.\"\n",
    " \n",
    "cadenaLi = \"\"\n",
    "puntoEspacion = False\n",
    "\n",
    "print(cadena)\n",
    "for q in range(len(cadena)):\n",
    "    if cadena[q] == \" \" or cadena[q] == \",\":\n",
    "        puntoEspacion = True\n",
    "    else:\n",
    "        if puntoEspacion:\n",
    "            if cadena[q].isupper():\n",
    "                cadenaLi += cadena[q]\n",
    "                puntoEspacion = False\n",
    "            else:\n",
    "                cadenaLi += cadena[q].upper()\n",
    "                puntoEspacion = False\n",
    "        else:\n",
    "            cadenaLi += cadena[q]\n",
    "\n",
    "print(cadenaLi)"
   ]
  },
  {
   "cell_type": "code",
   "execution_count": 2,
   "metadata": {},
   "outputs": [
    {
     "name": "stdout",
     "output_type": "stream",
     "text": [
      "2\n"
     ]
    }
   ],
   "source": [
    "#Ejercicio 4\n",
    "\n",
    "\"\"\"\n",
    "Se define \"raíz digital\" a la suma recursiva de todos los dígitos de un número hasta llegar a uno solo, por ejemplo\n",
    "\n",
    "raiz_digital(16)\n",
    "=> 1 + 6\n",
    "=> 7\n",
    "\n",
    "raiz_digital(942)\n",
    "=> 9 + 4 + 2\n",
    "=> 15 ...\n",
    "=> 1 + 5\n",
    "=> 6\n",
    "\n",
    "Entonces el objetivo consiste en implementar el algoritmo de la raiz digital y probar con el número 493193, cuyo resultado\n",
    "debe ser 2. Sugerencia: la forma recursiva es la más fácil de implementar.\n",
    "\n",
    "Curso rápido para ingresar funciones en Python; basta con declarar:\n",
    "\n",
    "#En def no hay tipo de retorno de dato como en otros lenuajes.\n",
    "def nombre_funcion(parametro_1,...,parametro_n):\n",
    "    #El return del tipo de dato no cuenta en Python.\n",
    "    return algo\n",
    "\n",
    "\"\"\"\n",
    "def getRaizDig(num):\n",
    "    return num if num == 0 else num % 9 or 9\n",
    "print(getRaizDig(493193))"
   ]
  },
  {
   "cell_type": "markdown",
   "metadata": {},
   "source": [
    "### <center> Ejercicio 5. ¿A qué se le conoce como paso por valor y paso por referencia?, ¿Python en cuál categoría está clasificado? Respuesta en color azul. </center>\n",
    "<br>\n",
    "<br>\n",
    "<div style=\"color:blue;\"> \n",
    "-Por valor: cuando la variable contiene realmente los datos. Un tipo de valor almacena su contenido en la memoria asignada en la pila. Cuando la variable x queda fuera de ámbito, porque en el método en que se definió ha finalizado la ejecución, el valor se descarta de la pila. Utilizar la pila es eficaz, pero el período limitado de duración de los tipos de valores los hace menos adecuados para compartir los datos entre las diferentes clases. Cuando los datos se pasan a los métodos como parámetros de tipo de valor, se crea una copia de cada parámetro en la pila. Evidentemente, si el parámetro en cuestión es un tipo de datos grande, por ejemplo, una estructura definida por el usuario con muchos elementos, o el método se ejecuta muchas veces, puede afectar el rendimiento.\n",
    "<br><br>\n",
    "- Por referencia: la variable contiene la dirección de la memoria donde se encuentran los datos. Se asigna en un área diferente de memoria llamada “montón”. En el ejemplo siguiente, el espacio requerido para los diez enteros que constituyen la matriz se asigna en el montón. Hay una sobrecarga mayor al declarar los tipos de referencia, pero éstos tienen la ventaja de ser accesibles desde otras clases\n",
    "<br><br>\n",
    "En Python no se hace paso ni por referencia ni por valor. En Python cuando se envía una variable como argumento en una llamada a una función lo que se envía es la referencia al objeto al que hace referencia la variable. Dependiendo de si el objeto es mutable o inmutable, la función podrá modificar o no el objeto.\n",
    "</div>\n"
   ]
  },
  {
   "cell_type": "markdown",
   "metadata": {},
   "source": [
    "### <center> Ejercicio 6. En el argot de computación, ¿a qué se le conoce como herencia?, ¿Python de cuál tipo maneja? Para colocar los tipos de herencia, hágalo usando un listado sencillo </center>\n",
    "<br><br>\n",
    "\n",
    "Tipos de Herencia\n",
    "\n",
    "1. Herencia Simple: Indica que se pueden definir nuevas clases solamente a partir de una clase inicial\n",
    "3. Herencia Multiple: Indica que se pueden definir nuevas clases a partir de dos o más clases iniciales.\n",
    "5. Herencia de implementación: La implementación de los métodos es heredada. Puede sobreescribirse en las clases derivadas.\n",
    "6. Herencia de interfaz: Sólo se hereda la interfaz, no hay implementación a nivel de clase base (interfaces en Java, clases abstractas en C++)\n",
    "<br><br>\n",
    "Python, simple y multiple\n",
    "<br><br>\n",
    "https://www.ecured.cu/Herencia_(Inform%C3%A1tica)\n"
   ]
  },
  {
   "cell_type": "code",
   "execution_count": 3,
   "metadata": {},
   "outputs": [
    {
     "name": "stdout",
     "output_type": "stream",
     "text": [
      "HCMCMCHCMCMCMCHCMCHCHCMCHCMCHCMCHCMCMCHCMCHCMCMCHCMCHCMCHCHCMCMCHCMCHCMCMCHCMCHCMCHCMCHCMCHCM\n"
     ]
    }
   ],
   "source": [
    "#Ejercicio 7\n",
    "\n",
    "\"\"\"\n",
    "Suponga que nos encontramos en una fiesta de graduación de preparatoria, de aquéllas lindas de antaño y no\n",
    "una conjunción de pecado como American Pie.\n",
    "\n",
    "También asumamos que existen 3 tipos de personas (no nos metemos con faltas a la suposición de género): hombres (H)\n",
    "mujeres(M) y chaperones (C).4+++++++++++++++++1102.\n",
    "\n",
    "Entonces, ¿en qué consiste el ejercicio?, en que dada la siguiente reunión (lista):\n",
    "\n",
    "[H,M,M,H,M,M,M,H,M,H,H,M,H,M,H,M,H,M,M,H,M,H,M,M,H,M,H,M,H,H,M,M,H,M,H,M,M,H,M,H,M,H,M,H,M,H,M]\n",
    "\n",
    "Se debe imprimir una lista resultado con todos los chaperones puestos apropiadamente para evitar la situación lasciva\n",
    "mencionada.\n",
    "\"\"\"\n",
    "\n",
    "cadena_homo  = [\"H\",\"M\",\"M\",\"H\",\"M\",\"M\",\"M\",\"H\",\"M\",\"H\",\"H\",\"M\",\"H\",\"M\",\"H\",\"M\",\"H\",\"M\",\"M\",\"H\",\"M\",\"H\",\"M\",\"M\",\"H\",\"M\",\"H\",\"M\",\"H\",\"H\",\"M\",\"M\",\"H\",\"M\",\"H\",\"M\",\"M\",\"H\",\"M\",\"H\",\"M\",\"H\",\"M\",\"H\",\"M\",\"H\",\"M\"]\n",
    "homofobia = \"\"\n",
    "\n",
    "for r in range(len(cadena_homo)):\n",
    "    if r == len(cadena_homo)-1:\n",
    "        homofobia += cadena_homo[r]\n",
    "    else:\n",
    "        homofobia += cadena_homo[r] + \"C\"\n",
    "    \n",
    "print(homofobia)"
   ]
  },
  {
   "cell_type": "markdown",
   "metadata": {},
   "source": [
    "\n",
    "### <center> Ejercicio 8. ¿Qué entiende por paradigma de lenguaje de programación y cuáles son sus clasificaciones, ¿Python en cuál(es) categoría(s) puede entrar? Toda la respuesta en color café, por cada clasificación use un listado numérico. </center>\n",
    "<div style=\"color:brown;\"> \n",
    "Un paradigma de programación está delimitado en el tiempo en cuanto a aceptación y uso, porque nuevos paradigmas aportan nuevas o mejores soluciones que la sustituyen parcial o totalmente\n",
    "</div>\n",
    "\n",
    "1. Programación imperativa o por procedimientos: es el más usado en general, se basa en dar instrucciones al ordenador de como hacer las cosas en forma de algoritmos. La programación imperativa es la más usada y la más antigua, el ejemplo principal es el lenguaje de máquina. Ejemplos de lenguajes puros de este paradigma serían el C, BASIC o Pascal.\n",
    "2. Programación orientada a objetos: está basada en el imperativo, pero encapsula elementos denominados objetos que incluyen tanto variables como funciones. Está representado por C++, C#, Java o Python entre otros, pero el más representativo sería el Smalltalk que está completamente orientado a objetos.\n",
    "3. Programación dinámica: está definida como el proceso de romper problemas en partes pequeñas para analizarlos y resolverlos de forma lo más cercana al óptimo, busca resolver problemas en O(n) sin usar por tanto métodos recursivos. Este paradigma está más basado en el modo de realizar los algoritmos, por lo que se puede usar con cualquier lenguaje imperativo.\n",
    "4. Programación dirigida por eventos: la programación dirigida por eventos es un paradigma de programación en el que tanto la estructura como la ejecución de los programas van determinados por los sucesos que ocurran en el sistema, definidos por el usuario o que ellos mismos provoquen.\n",
    "5. Programación declarativa: está basado en describir el problema declarando propiedades y reglas que deben cumplirse, en lugar de instrucciones. Hay lenguajes para la programación funcional, la programación lógica, o la combinación lógico-funcional. Unos de los primeros lenguajes funcionales fueron Lisp y Prolog.\n",
    "6. Programación funcional: basada en la definición los predicados y es de corte más matemático, está representado por Scheme (una variante de Lisp) o Haskell. Python también representa este paradigma. 1​\n",
    "7. Programación lógica: basado en la definición de relaciones lógicas, está representado por Prolog.\n",
    "8. Programación con restricciones: similar a la lógica usando ecuaciones. Casi todos los lenguajes son variantes del Prolog.\n",
    "9. Programación multiparadigma: es el uso de dos o más paradigmas dentro de un programa. El lenguaje Lisp se considera multiparadigma. Al igual que Python, que es orientado a objetos, reflexivo, imperativo y funcional.1​\n",
    "10. Programación reactiva: Este paradigma se basa en la declaración de una serie de objetos emisores de eventos asíncronos y otra serie de objetos que se \"suscriben\" a los primeros (es decir, quedan a la escucha de la emisión de eventos de estos) y *reaccionan* a los valores que reciben. Es muy común usar la librería Rx de Microsoft (Acrónimo de Reactive Extensions), disponible para múltiples lenguajes de programación.\n",
    "11. Lenguaje específico del dominio o DSL: se denomina así a los lenguajes desarrollados para resolver un problema específico, pudiendo entrar dentro de cualquier grupo anterior. El más representativo sería SQL para el manejo de las bases de datos, de tipo declarativo, pero los hay imperativos, como el Logo.\n",
    "\n"
   ]
  },
  {
   "cell_type": "code",
   "execution_count": null,
   "metadata": {
    "collapsed": true
   },
   "outputs": [],
   "source": [
    "#Ejercicio 9\n",
    "\n",
    "\"\"\"\n",
    "Con base en el archivo ejercicio_5.txt de la tarea anterior cree un dataframe de Pandas considerando \n",
    "el encabezado, por ahora no se preocupe del tipo de dato.\n",
    "\"\"\"\n",
    "import pandas\n",
    "dataframe = pandas.read_csv(\"ejercicio_5.txt\")"
   ]
  },
  {
   "cell_type": "code",
   "execution_count": null,
   "metadata": {
    "collapsed": true
   },
   "outputs": [],
   "source": [
    "#Ejercicio 10\n",
    "\n",
    "\"\"\"Tome el dataframe de Pandas del ejercicio anterior, guárdelo como un archivo de tipo .pickle con el nombre:\n",
    "<su_usuario_de_git> y colóquelo en el subdirectorio \"Tarea Semana 2\" \n",
    "\"\"\"\n",
    "import pickle\n",
    "pickle.dump( dataframe, open(\"jctmmx.p\",\"wb\"))"
   ]
  },
  {
   "cell_type": "markdown",
   "metadata": {},
   "source": [
    "## <center> Los siguientes ejercicios son los puntos extra tal y como se acordó de acuerdo a las preguntas debidamente contestadas, excepto para aquéllos que tienen que cumplir la penalización. </center> "
   ]
  },
  {
   "cell_type": "code",
   "execution_count": null,
   "metadata": {
    "collapsed": true
   },
   "outputs": [],
   "source": [
    "#Ejercicio 11 \n",
    "\n",
    "\"\"\"\n",
    "Para este ejercicio se debe implementar un programa que tome el lenguaje natural y lo convierta a código Morse:\n",
    "\n",
    "https://www.electronics-notes.com/articles/ham_radio/morse_code/characters-table-chart.php\n",
    "\n",
    "Usando solamente un ciclo for/while; if-else y demás no tienen limitantes.\n",
    "\n",
    "Para las pruebas de traducción exitosa se puede ocupar este ejemplo:\n",
    "\n",
    "Creo que aquello en lo que nos convertimos depende de lo que nuestros padres nos enseñan en pequeños momentos, \n",
    "cuando no están intentando enseñarnos. Estamos hechos de pequeños fragmentos de sabiduría.\n",
    "\n",
    "Y el siguiente sitio:\n",
    "\n",
    "https://morsecode.scphillips.com/translator.html?utm_source=hootsuite\n",
    "\n",
    "NOTA: puede deshacerse de los signos de puntuación pero no de las letras acentuadas, por otro lado las mayúsculas \n",
    "y minúsculas se comportan igual (upper(), lower()).\n",
    "En este caso puede convertir las letras \"á\" ó \"à\" o \"â\" por \"a\" y la \"ñ\" por \"n\".\n"
   ]
  },
  {
   "cell_type": "code",
   "execution_count": null,
   "metadata": {
    "collapsed": true
   },
   "outputs": [],
   "source": [
    "#Ejercicio 12\n",
    "\n",
    "\"\"\"\n",
    "Para repasar el uso de funciones recursivas, implemente la función de Ackerman. Muestre en pantalla el resultado de :\n",
    "\n",
    "ackerman(3,4)\n",
    "\n",
    "NOTA: puede crear una función (precisamente llamada ackerman) para una mejor presentación del código.\n",
    "\"\"\"\n"
   ]
  },
  {
   "cell_type": "code",
   "execution_count": null,
   "metadata": {
    "collapsed": true
   },
   "outputs": [],
   "source": [
    "#Ejercicio 13. \n",
    "\n",
    "\"\"\"\n",
    "Investigue e implemente la criba de Eratóstenes; hágase valer de todas las funcionalidades vistas \n",
    "hasta ahora (if-else, while, for, diccionarios, listas, etc.)\n",
    "NOTA: para este ejercicio debe colocar 2 casillas, una para la explicación del tema EN MARKDOWN \n",
    "y la otra para la implementación del mismo.\n",
    "\"\"\""
   ]
  },
  {
   "cell_type": "markdown",
   "metadata": {},
   "source": [
    "# <center> ¡Mucho éxito! </center> "
   ]
  },
  {
   "cell_type": "code",
   "execution_count": null,
   "metadata": {
    "collapsed": true
   },
   "outputs": [],
   "source": []
  }
 ],
 "metadata": {
  "kernelspec": {
   "display_name": "Python 3",
   "language": "python",
   "name": "python3"
  },
  "language_info": {
   "codemirror_mode": {
    "name": "ipython",
    "version": 3
   },
   "file_extension": ".py",
   "mimetype": "text/x-python",
   "name": "python",
   "nbconvert_exporter": "python",
   "pygments_lexer": "ipython3",
   "version": "3.6.5"
  }
 },
 "nbformat": 4,
 "nbformat_minor": 2
}
