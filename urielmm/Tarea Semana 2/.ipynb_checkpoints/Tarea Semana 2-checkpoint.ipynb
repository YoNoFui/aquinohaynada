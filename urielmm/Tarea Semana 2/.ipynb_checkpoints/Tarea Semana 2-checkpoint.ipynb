{
 "cells": [
  {
   "cell_type": "markdown",
   "metadata": {},
   "source": [
    "# <center> ¡Bienvenidos a la Semana 2! </center>\n",
    "\n",
    "### Para esta tarea se siguen casi mismos lineamientos empleados en la Tarea de Vacaciones, es decir, se debe crear un directorio que se llama \"Tarea Semana 2\" y dentro debe almacenarse este notebook con la nomenclatura con la salvedad de que si se trata de una pregunta de implementación se debe colocar en ese mismo ejercicio la resolución y si se aborda una pregunta abierta se debe colocar la fuente.\n",
    "\n",
    "### De estas últimas todas deben colocarse en Markdown (siguiendo los lineamientos de visualización) o de lo contrario no se valdrá el crédito."
   ]
  },
  {
   "cell_type": "code",
   "execution_count": 15,
   "metadata": {},
   "outputs": [
    {
     "data": {
      "text/plain": [
       "'\\nImprima los elementos de esta manera:\\n\\n1 2 3 4 5\\n6 7 8 9 10\\n11 12 13 14 15\\n16 17 18 19 20\\n\\nUsando solamente un ciclo (while, for); no hay restricción de if-else, breaks, etc.\\n'"
      ]
     },
     "execution_count": 15,
     "metadata": {},
     "output_type": "execute_result"
    }
   ],
   "source": [
    "#Ejercicio 1\n",
    "#A partir de la siguiente matriz:\n",
    "\n",
    "matriz = [[1,2,3,4,5],\n",
    "          [6,7,8,9,10],\n",
    "          [11,12,13,14,15],\n",
    "          [16,17,18,19,20]]\n",
    "\n",
    "\"\"\"\n",
    "Imprima los elementos de esta manera:\n",
    "\n",
    "1 2 3 4 5\n",
    "6 7 8 9 10\n",
    "11 12 13 14 15\n",
    "16 17 18 19 20\n",
    "\n",
    "Usando solamente un ciclo (while, for); no hay restricción de if-else, breaks, etc.\n",
    "\"\"\""
   ]
  },
  {
   "cell_type": "markdown",
   "metadata": {},
   "source": [
    "### R: Exploratorio\n",
    "\n"
   ]
  },
  {
   "cell_type": "code",
   "execution_count": 12,
   "metadata": {},
   "outputs": [],
   "source": [
    "num_col = len(matriz)\n",
    "num_row = len(matriz[1])\n",
    "num_reg = num_col*num_row"
   ]
  },
  {
   "cell_type": "code",
   "execution_count": 17,
   "metadata": {},
   "outputs": [
    {
     "data": {
      "text/plain": [
       "2"
      ]
     },
     "execution_count": 17,
     "metadata": {},
     "output_type": "execute_result"
    }
   ],
   "source": [
    "matriz[0][1]"
   ]
  },
  {
   "cell_type": "code",
   "execution_count": 121,
   "metadata": {},
   "outputs": [
    {
     "name": "stdout",
     "output_type": "stream",
     "text": [
      "1 7 13 19 5 6 12 18 4 10 11 17 3 9 15 16 2 8 14 20 "
     ]
    }
   ],
   "source": [
    "for i in range(num_reg):\n",
    "    print(matriz[i%num_col][i%num_row],end=' ')"
   ]
  },
  {
   "cell_type": "code",
   "execution_count": 117,
   "metadata": {},
   "outputs": [
    {
     "data": {
      "text/plain": [
       "0"
      ]
     },
     "execution_count": 117,
     "metadata": {},
     "output_type": "execute_result"
    }
   ],
   "source": [
    "((5%num_col)*num_col)%num_col"
   ]
  },
  {
   "cell_type": "markdown",
   "metadata": {},
   "source": [
    "## <center> Ejercicio 2. ¿A qué se le conoce como evaluación perezosa?, ¿Python aplica esta característica?. Toda la respuesta alineada a la derecha. </center>"
   ]
  },
  {
   "cell_type": "code",
   "execution_count": 122,
   "metadata": {},
   "outputs": [],
   "source": [
    "#Ejercicio 3\n",
    "\n",
    "\"\"\"\n",
    "En general en los lenguajes de programación una de las prácticas recomendadas para nombrar ya sea variables o funciones es\n",
    "el \"Camel Case\" el cual consiste en sustituir posibles espacios con letras mayúsculas (la primera letra de la frase por lo \n",
    "regular no se toma en cuenta), por ejemplo:\n",
    "\n",
    "este es el nombre de mi variable => esteEsElNombreDeMiVariable\n",
    "aqui esta otro nombre para la variable => aquiEstaOtroNombreParaLaVariable\n",
    "\n",
    "¿Por qué Camel? porque la combinación de mayúsculas y minúsculas simulan la joroba de un camello (dato curioso debería de ser\n",
    "un dromedario y no un camello porque el camello tiene una joroba y el dromedario dos ;))\n",
    "\n",
    "Entonces, para este ejercicio teniendo en cuenta esta cadena:\n",
    "\n",
    "En algun lugar de La Mancha de cuyo nombre no quiero acordarme, o ha mucho tiempo que vivia un hidalgo de los de lanza en \n",
    "astillero, adarga antigua, rocin flaco y galgo corredor.\n",
    "\n",
    "Se debe convertir bajo la nomenclatura Camel Case.\n",
    "Para este ejercicio en particular la primera palabra de la frase se deja intacta mientras que los signos de puntuación \n",
    "(exceptuando el último) se deben remover.\n",
    "\n",
    "Sugerencias: las funciones lower() & upper() convierten una letra a minúsculas y mayúsculas respectivamente, si\n",
    "se da el caso de que ya estaban convertidas a los tipos que se deseaban transformar no arroja error.\n",
    "\n",
    "Por otra parte las funciones islower() & isupper() indican si una letra está en su modalidad minúscula o mayúscula\n",
    "respectivamente.\n",
    "\"\"\"\n",
    "\n",
    "cadena = \"En algun lugar de La Mancha de cuyo nombre no quiero acordarme, o ha mucho tiempo que vivia un hidalgo de los de lanza en astillero, adarga antigua, rocin flaco y galgo corredor.\"\n",
    " "
   ]
  },
  {
   "cell_type": "code",
   "execution_count": 181,
   "metadata": {},
   "outputs": [],
   "source": [
    "Res = ''\n",
    "ABC = 'ABCDEFGHIJKLMNOPQRSTUVWXYZ'"
   ]
  },
  {
   "cell_type": "code",
   "execution_count": 182,
   "metadata": {},
   "outputs": [],
   "source": [
    "a = cadena.split(\" \")"
   ]
  },
  {
   "cell_type": "code",
   "execution_count": 183,
   "metadata": {},
   "outputs": [
    {
     "name": "stdout",
     "output_type": "stream",
     "text": [
      "En\n",
      "algun\n",
      "lugar\n",
      "de\n",
      "La\n",
      "Mancha\n",
      "de\n",
      "cuyo\n",
      "nombre\n",
      "no\n",
      "quiero\n",
      "acordarme,\n",
      "o\n",
      "ha\n",
      "mucho\n",
      "tiempo\n",
      "que\n",
      "vivia\n",
      "un\n",
      "hidalgo\n",
      "de\n",
      "los\n",
      "de\n",
      "lanza\n",
      "en\n",
      "astillero,\n",
      "adarga\n",
      "antigua,\n",
      "rocin\n",
      "flaco\n",
      "y\n",
      "galgo\n",
      "corredor.\n"
     ]
    }
   ],
   "source": [
    "for i in range(len(a)):\n",
    "    if i==0:\n",
    "        Res=Res.join(a[i])\n",
    "    else:\n",
    "        for c in a[i]:\n",
    "            if c==0:\n",
    "                Res=Res.join(c.upper())\n",
    "    print(a[i])\n",
    "    \n"
   ]
  },
  {
   "cell_type": "code",
   "execution_count": 184,
   "metadata": {},
   "outputs": [
    {
     "data": {
      "text/plain": [
       "'En'"
      ]
     },
     "execution_count": 184,
     "metadata": {},
     "output_type": "execute_result"
    }
   ],
   "source": [
    "Res"
   ]
  },
  {
   "cell_type": "code",
   "execution_count": 158,
   "metadata": {},
   "outputs": [],
   "source": [
    "for i in range(len(cadena)):\n",
    "    if (i==0 or i == len(cadena)):\n",
    "        Res.append(cadena[i].upper())\n",
    "    if (i!=0 and cadena[i].upper() in ABC):\n",
    "        if cadena[i-1] ==' ':\n",
    "            Res.append(cadena[i].upper())\n",
    "        else:\n",
    "            Res.append(cadena[i].lower())\n"
   ]
  },
  {
   "cell_type": "code",
   "execution_count": 159,
   "metadata": {
    "scrolled": true
   },
   "outputs": [
    {
     "data": {
      "text/plain": [
       "'EnAlgunLugarDeLaManchaDeCuyoNombreNoQuieroAcordarmeOHaMuchoTiempoQueViviaUnHidalgoDeLosDeLanzaEnAstilleroAdargaAntiguaRocinFlacoYGalgoCorredorEnAlgunLugarDeLaManchaDeCuyoNombreNoQuieroAcordarmeOHaMuchoTiempoQueViviaUnHidalgoDeLosDeLanzaEnAstilleroAdargaAntiguaRocinFlacoYGalgoCorredorEnAlgunLugarDeLaManchaDeCuyoNombreNoQuieroAcordarmeOHaMuchoTiempoQueViviaUnHidalgoDeLosDeLanzaEnAstilleroAdargaAntiguaRocinFlacoYGalgoCorredor'"
      ]
     },
     "execution_count": 159,
     "metadata": {},
     "output_type": "execute_result"
    }
   ],
   "source": [
    "str1 = ''.join(Res)\n",
    "str1"
   ]
  },
  {
   "cell_type": "code",
   "execution_count": null,
   "metadata": {
    "collapsed": true
   },
   "outputs": [],
   "source": [
    "#Ejercicio 4\n",
    "\n",
    "\"\"\"\n",
    "Se define \"raíz digital\" a la suma recursiva de todos los dígitos de un número hasta llegar a uno solo, por ejemplo\n",
    "\n",
    "raiz_digital(16)\n",
    "=> 1 + 6\n",
    "=> 7\n",
    "\n",
    "raiz_digital(942)\n",
    "=> 9 + 4 + 2\n",
    "=> 15 ...\n",
    "=> 1 + 5\n",
    "=> 6\n",
    "\n",
    "Entonces el objetivo consiste en implementar el algoritmo de la raiz digital y probar con el número 493193, cuyo resultado\n",
    "debe ser 2. Sugerencia: la forma recursiva es la más fácil de implementar.\n",
    "\n",
    "Curso rápido para ingresar funciones en Python; basta con declarar:\n",
    "\n",
    "#En def no hay tipo de retorno de dato como en otros lenuajes.\n",
    "def nombre_funcion(parametro_1,...,parametro_n):\n",
    "    #El return del tipo de dato no cuenta en Python.\n",
    "    return algo\n",
    "\n",
    "\"\"\""
   ]
  },
  {
   "cell_type": "markdown",
   "metadata": {},
   "source": [
    "### <center> Ejercicio 5. ¿A qué se le conoce como paso por valor y paso por referencia?, ¿Python en cuál categoría está clasificado? Respuesta en color azul. </center>"
   ]
  },
  {
   "cell_type": "markdown",
   "metadata": {},
   "source": [
    "### <center> Ejercicio 6. En el argot de computación, ¿a qué se le conoce como herencia?, ¿Python de cuál tipo maneja? Para colocar los tipos de herencia, hágalo usando un listado sencillo </center>"
   ]
  },
  {
   "cell_type": "code",
   "execution_count": null,
   "metadata": {
    "collapsed": true
   },
   "outputs": [],
   "source": [
    "#Ejercicio 7\n",
    "\n",
    "\"\"\"\n",
    "Suponga que nos encontramos en una fiesta de graduación de preparatoria, de aquéllas lindas de antaño y no\n",
    "una conjunción de pecado como American Pie.\n",
    "\n",
    "También asumamos que existen 3 tipos de personas (no nos metemos con faltas a la suposición de género): hombres (H)\n",
    "mujeres(M) y chaperones (C).\n",
    "\n",
    "Como su nombre lo dice, un chaperón debe interponerse entre un hombre y una mujer para que no existan situaciones \n",
    "lascivas. Para nuestro caso, teniendo una reunión (lista) del tipo:\n",
    "\n",
    "[H,M,H,M,H,M,H,M,H,M,H,M]\n",
    "\n",
    "Deben colocarse chaperones cada vez que se encuentren una correspondencia del tipo HM o MH, \n",
    "en nuestro caso la solución sería:\n",
    "\n",
    "[H,C,M,C,H,C,M,C,H,C,M,C,H,C,M,C,H,C,M,C,H,C,M]\n",
    "\n",
    "Aunque lo anterior es sólo un ejemplo pueden darse casos en el que existan parejas MM y HH.\n",
    "\n",
    "Entonces, ¿en qué consiste el ejercicio?, en que dada la siguiente reunión (lista):\n",
    "\n",
    "[H,M,M,H,M,M,M,H,M,H,H,M,H,M,H,M,H,M,M,H,M,H,M,M,H,M,H,M,H,H,M,M,H,M,H,M,M,H,M,H,M,H,M,H,M,H,M]\n",
    "\n",
    "Se debe imprimir una lista resultado con todos los chaperones puestos apropiadamente para evitar la situación lasciva\n",
    "mencionada.\n",
    "\"\"\"\n"
   ]
  },
  {
   "cell_type": "markdown",
   "metadata": {},
   "source": [
    "### <center> Ejercicio 8. ¿Qué entiende por paradigma de lenguaje de programación y cuáles son sus clasificaciones, ¿Python en cuál(es) categoría(s) puede entrar? Toda la respuesta en color café, por cada clasificación use un listado numérico. </center>"
   ]
  },
  {
   "cell_type": "code",
   "execution_count": null,
   "metadata": {
    "collapsed": true
   },
   "outputs": [],
   "source": [
    "#Ejercicio 9\n",
    "\n",
    "\"\"\"\n",
    "Con base en el archivo ejercicio_5.txt de la tarea anterior cree un dataframe de Pandas considerando \n",
    "el encabezado, por ahora no se preocupe del tipo de dato.\n",
    "\"\"\""
   ]
  },
  {
   "cell_type": "code",
   "execution_count": null,
   "metadata": {
    "collapsed": true
   },
   "outputs": [],
   "source": [
    "#Ejercicio 10\n",
    "\n",
    "\"\"\"Tome el dataframe de Pandas del ejercicio anterior, guárdelo como un archivo de tipo .pickle con el nombre:\n",
    "<su_usuario_de_git> y colóquelo en el subdirectorio \"Tarea Semana 2\" \n",
    "\"\"\""
   ]
  },
  {
   "cell_type": "markdown",
   "metadata": {},
   "source": [
    "## <center> Los siguientes ejercicios son los puntos extra tal y como se acordó de acuerdo a las preguntas debidamente contestadas, excepto para aquéllos que tienen que cumplir la penalización. </center> "
   ]
  },
  {
   "cell_type": "code",
   "execution_count": null,
   "metadata": {
    "collapsed": true
   },
   "outputs": [],
   "source": [
    "#Ejercicio 11 \n",
    "\n",
    "\"\"\"\n",
    "Para este ejercicio se debe implementar un programa que tome el lenguaje natural y lo convierta a código Morse:\n",
    "\n",
    "https://www.electronics-notes.com/articles/ham_radio/morse_code/characters-table-chart.php\n",
    "\n",
    "Usando solamente un ciclo for/while; if-else y demás no tienen limitantes.\n",
    "\n",
    "Para las pruebas de traducción exitosa se puede ocupar este ejemplo:\n",
    "\n",
    "Creo que aquello en lo que nos convertimos depende de lo que nuestros padres nos enseñan en pequeños momentos, \n",
    "cuando no están intentando enseñarnos. Estamos hechos de pequeños fragmentos de sabiduría.\n",
    "\n",
    "Y el siguiente sitio:\n",
    "\n",
    "https://morsecode.scphillips.com/translator.html?utm_source=hootsuite\n",
    "\n",
    "NOTA: puede deshacerse de los signos de puntuación pero no de las letras acentuadas, por otro lado las mayúsculas \n",
    "y minúsculas se comportan igual (upper(), lower()).\n",
    "En este caso puede convertir las letras \"á\" ó \"à\" o \"â\" por \"a\" y la \"ñ\" por \"n\".\n"
   ]
  },
  {
   "cell_type": "code",
   "execution_count": null,
   "metadata": {
    "collapsed": true
   },
   "outputs": [],
   "source": [
    "#Ejercicio 12\n",
    "\n",
    "\"\"\"\n",
    "Para repasar el uso de funciones recursivas, implemente la función de Ackerman. Muestre en pantalla el resultado de :\n",
    "\n",
    "ackerman(3,4)\n",
    "\n",
    "NOTA: puede crear una función (precisamente llamada ackerman) para una mejor presentación del código.\n",
    "\"\"\"\n"
   ]
  },
  {
   "cell_type": "code",
   "execution_count": null,
   "metadata": {
    "collapsed": true
   },
   "outputs": [],
   "source": [
    "#Ejercicio 13. \n",
    "\n",
    "\"\"\"\n",
    "Investigue e implemente la criba de Eratóstenes; hágase valer de todas las funcionalidades vistas \n",
    "hasta ahora (if-else, while, for, diccionarios, listas, etc.)\n",
    "NOTA: para este ejercicio debe colocar 2 casillas, una para la explicación del tema EN MARKDOWN \n",
    "y la otra para la implementación del mismo.\n",
    "\"\"\""
   ]
  },
  {
   "cell_type": "markdown",
   "metadata": {},
   "source": [
    "# <center> ¡Mucho éxito! </center> "
   ]
  },
  {
   "cell_type": "code",
   "execution_count": null,
   "metadata": {
    "collapsed": true
   },
   "outputs": [],
   "source": []
  }
 ],
 "metadata": {
  "kernelspec": {
   "display_name": "Python 3",
   "language": "python",
   "name": "python3"
  },
  "language_info": {
   "codemirror_mode": {
    "name": "ipython",
    "version": 3
   },
   "file_extension": ".py",
   "mimetype": "text/x-python",
   "name": "python",
   "nbconvert_exporter": "python",
   "pygments_lexer": "ipython3",
   "version": "3.6.4"
  }
 },
 "nbformat": 4,
 "nbformat_minor": 2
}
