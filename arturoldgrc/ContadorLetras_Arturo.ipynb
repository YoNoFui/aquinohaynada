{
 "cells": [
  {
   "cell_type": "code",
   "execution_count": 3,
   "metadata": {},
   "outputs": [
    {
     "name": "stdout",
     "output_type": "stream",
     "text": [
      "La letra \" \" se repite 4 veces\n",
      "La letra \"a\" se repite 6 veces\n",
      "La letra \"c\" se repite 7 veces\n",
      "La letra \"d\" se repite 6 veces\n",
      "La letra \"e\" se repite 7 veces\n",
      "La letra \"n\" se repite 7 veces\n",
      "La letra \"o\" se repite 6 veces\n",
      "La letra \"s\" se repite 7 veces\n",
      "La letra \"t\" se repite 6 veces\n"
     ]
    }
   ],
   "source": [
    "#Cuenta la frecuencia de las letras en la cadena \"cuando cuentes cuentos cuenta cuantos cuentos cuentas\"\n",
    "\n",
    "cadena = 'cuando cuentes cuentos cuenta cuantos cuentos cuentas'\n",
    "lista = []\n",
    "frecuencia = []\n",
    "\n",
    "#Separa las letras de la cadena\n",
    "x=0\n",
    "while x < len(cadena):\n",
    "   lista.append(cadena[x]) \n",
    "   x+=1\n",
    "\n",
    "#Cuento la frecuencia de cada lista\n",
    "for w in lista:\n",
    "    frecuencia.append(lista.count(w))\n",
    "\n",
    "#Ordeno la lista y muestro solo las letras diferentes\n",
    "lista.sort()\n",
    "for z in range (len(lista)-1):\n",
    "    if lista[z] != lista[z+1]:\n",
    "        print(\"La letra \\\"\"+str(lista[z])+\"\\\" se repite \"+str(frecuencia[z])+\" veces\")"
   ]
  },
  {
   "cell_type": "code",
   "execution_count": 4,
   "metadata": {},
   "outputs": [
    {
     "name": "stdout",
     "output_type": "stream",
     "text": [
      "La frecuendias es:{'c': 7, 'u': 7, 'a': 4, 'n': 7, 'd': 1, 'o': 4, ' ': 6, 'e': 6, 't': 6, 's': 5}\n"
     ]
    }
   ],
   "source": [
    "#Cuenta la frecuencia de las letras en la cadena \"cuando cuentes cuentos cuenta cuantos cuentos cuentas\"\n",
    "\n",
    "cadena = 'cuando cuentes cuentos cuenta cuantos cuentos cuentas'\n",
    "dicc = {}\n",
    "\n",
    "for x in cadena:\n",
    "    if x in dicc:\n",
    "        dicc[x]+=1\n",
    "    else: \n",
    "        dicc[x]=1\n",
    "\n",
    "print(\"La frecuendias es:\"+str(dicc))"
   ]
  },
  {
   "cell_type": "code",
   "execution_count": null,
   "metadata": {},
   "outputs": [],
   "source": []
  }
 ],
 "metadata": {
  "kernelspec": {
   "display_name": "Python 3",
   "language": "python",
   "name": "python3"
  },
  "language_info": {
   "codemirror_mode": {
    "name": "ipython",
    "version": 3
   },
   "file_extension": ".py",
   "mimetype": "text/x-python",
   "name": "python",
   "nbconvert_exporter": "python",
   "pygments_lexer": "ipython3",
   "version": "3.6.4"
  }
 },
 "nbformat": 4,
 "nbformat_minor": 2
}
