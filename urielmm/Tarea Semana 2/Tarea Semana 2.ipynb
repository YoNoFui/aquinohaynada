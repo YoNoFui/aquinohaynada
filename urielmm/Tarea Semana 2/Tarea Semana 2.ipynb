{
 "cells": [
  {
   "cell_type": "markdown",
   "metadata": {},
   "source": [
    "# <center> ¡Bienvenidos a la Semana 2! </center>\n",
    "\n",
    "### Para esta tarea se siguen casi mismos lineamientos empleados en la Tarea de Vacaciones, es decir, se debe crear un directorio que se llama \"Tarea Semana 2\" y dentro debe almacenarse este notebook con la nomenclatura con la salvedad de que si se trata de una pregunta de implementación se debe colocar en ese mismo ejercicio la resolución y si se aborda una pregunta abierta se debe colocar la fuente.\n",
    "\n",
    "### De estas últimas todas deben colocarse en Markdown (siguiendo los lineamientos de visualización) o de lo contrario no se valdrá el crédito."
   ]
  },
  {
   "cell_type": "code",
   "execution_count": 1,
   "metadata": {},
   "outputs": [
    {
     "data": {
      "text/plain": [
       "'\\nImprima los elementos de esta manera:\\n\\n1 2 3 4 5\\n6 7 8 9 10\\n11 12 13 14 15\\n16 17 18 19 20\\n\\nUsando solamente un ciclo (while, for); no hay restricción de if-else, breaks, etc.\\n'"
      ]
     },
     "execution_count": 1,
     "metadata": {},
     "output_type": "execute_result"
    }
   ],
   "source": [
    "#Ejercicio 1\n",
    "#A partir de la siguiente matriz:\n",
    "\n",
    "matriz = [[1,2,3,4,5],\n",
    "          [6,7,8,9,10],\n",
    "          [11,12,13,14,15],\n",
    "          [16,17,18,19,20]]\n",
    "\n",
    "\"\"\"\n",
    "Imprima los elementos de esta manera:\n",
    "\n",
    "1 2 3 4 5\n",
    "6 7 8 9 10\n",
    "11 12 13 14 15\n",
    "16 17 18 19 20\n",
    "\n",
    "Usando solamente un ciclo (while, for); no hay restricción de if-else, breaks, etc.\n",
    "\"\"\""
   ]
  },
  {
   "cell_type": "markdown",
   "metadata": {},
   "source": [
    "### R: Matrix m x n"
   ]
  },
  {
   "cell_type": "code",
   "execution_count": 2,
   "metadata": {},
   "outputs": [],
   "source": [
    "num_row= len(matriz)\n",
    "num_col = len(matriz[0])\n",
    "num_reg = num_row*num_col"
   ]
  },
  {
   "cell_type": "markdown",
   "metadata": {},
   "source": [
    "## Opción 1: "
   ]
  },
  {
   "cell_type": "markdown",
   "metadata": {},
   "source": [
    "Sin utilizar restricciones de IF se puede utilizar el parámetro end de print y el módulo para que se recorra\n",
    "un string que contiene en la primera posición el retorno de línea y en las demás un espacio."
   ]
  },
  {
   "cell_type": "code",
   "execution_count": 3,
   "metadata": {},
   "outputs": [],
   "source": [
    "e = '\\n'+' '*num_col"
   ]
  },
  {
   "cell_type": "code",
   "execution_count": 4,
   "metadata": {},
   "outputs": [
    {
     "name": "stdout",
     "output_type": "stream",
     "text": [
      "1 2 3 4 5\n",
      "6 7 8 9 10\n",
      "11 12 13 14 15\n",
      "16 17 18 19 20\n"
     ]
    }
   ],
   "source": [
    "for reg in range(num_reg):\n",
    "    print('{0}'.format(matriz[int((reg-reg%num_col)/num_col)][reg%num_col]), end = e[(reg+1)%num_col])"
   ]
  },
  {
   "cell_type": "markdown",
   "metadata": {},
   "source": [
    "## Opción 2: "
   ]
  },
  {
   "cell_type": "markdown",
   "metadata": {},
   "source": [
    "Utilizando una condición IF se puede identificar el último valor de cada fila para imprimir el retorno de línea"
   ]
  },
  {
   "cell_type": "code",
   "execution_count": 5,
   "metadata": {},
   "outputs": [
    {
     "name": "stdout",
     "output_type": "stream",
     "text": [
      "\n",
      "1 2 3 4 5 \n",
      "6 7 8 9 10 \n",
      "11 12 13 14 15 \n",
      "16 17 18 19 20 "
     ]
    }
   ],
   "source": [
    "for reg in range(num_reg):\n",
    "    if (reg)%num_col==0:\n",
    "        print('')\n",
    "    print('{0}'.format(matriz[int((reg-reg%num_col)/num_col)][reg%num_col]), end = ' ')"
   ]
  },
  {
   "cell_type": "markdown",
   "metadata": {},
   "source": [
    "## <center> Ejercicio 2. ¿A qué se le conoce como evaluación perezosa?, ¿Python aplica esta característica?. Toda la respuesta alineada a la derecha. </center>"
   ]
  },
  {
   "cell_type": "markdown",
   "metadata": {},
   "source": [
    "<div style=\"text-align: right\"> \n",
    "\n",
    "Lazzy Evaluation (call-by-need)\n",
    "\n",
    "Es una estrategia para evaluar una expresión hasta que algún valor sea requerido, esto permite encadenar diferentes expresiones sin que se compute cálculo alguno eficientando así el uso de recursos ya que se evalúa solamente lo necesario.\n",
    "\n",
    "Python por default utilizar lazzy evaluation en algunas funciones, por ejemplo la función range() que al ser llamada no genera una lista de números, en su lugar genera en memoria la función a evaluar y solamente cuando se requiere comienza a generar los números. \n",
    "\n",
    "En las listas por comprensión también se pueden ocupar cuando se coloca en lugar de [] (), en ese caso se crea un \"generador\" ( genexpr ) que es la forma de utilizar apuntadores a funciones de python.\n",
    "\n",
    "Fuentes:\n",
    "\n",
    "https://en.wikipedia.org/wiki/Lazy_evaluation\n",
    "https://www.quora.com/What-is-lazy-evaluation\n",
    "https://stackoverflow.com/questions/20535342/lazy-evaluation-in-python\n",
    "https://medium.com/@wpcarro/stop-writing-for-loops-lazy-evaluation-b99b81f9f9fd\n",
    "\n",
    "</div>"
   ]
  },
  {
   "cell_type": "code",
   "execution_count": 6,
   "metadata": {},
   "outputs": [],
   "source": [
    "#Ejercicio 3\n",
    "\n",
    "\"\"\"\n",
    "En general en los lenguajes de programación una de las prácticas recomendadas para nombrar ya sea variables o funciones es\n",
    "el \"Camel Case\" el cual consiste en sustituir posibles espacios con letras mayúsculas (la primera letra de la frase por lo \n",
    "regular no se toma en cuenta), por ejemplo:\n",
    "\n",
    "este es el nombre de mi variable => esteEsElNombreDeMiVariable\n",
    "aqui esta otro nombre para la variable => aquiEstaOtroNombreParaLaVariable\n",
    "\n",
    "¿Por qué Camel? porque la combinación de mayúsculas y minúsculas simulan la joroba de un camello (dato curioso debería de ser\n",
    "un dromedario y no un camello porque el camello tiene una joroba y el dromedario dos ;))\n",
    "\n",
    "Entonces, para este ejercicio teniendo en cuenta esta cadena:\n",
    "\n",
    "En algun lugar de La Mancha de cuyo nombre no quiero acordarme, o ha mucho tiempo que vivia un hidalgo de los de lanza en \n",
    "astillero, adarga antigua, rocin flaco y galgo corredor.\n",
    "\n",
    "Se debe convertir bajo la nomenclatura Camel Case.\n",
    "Para este ejercicio en particular la primera palabra de la frase se deja intacta mientras que los signos de puntuación \n",
    "(exceptuando el último) se deben remover.\n",
    "\n",
    "Sugerencias: las funciones lower() & upper() convierten una letra a minúsculas y mayúsculas respectivamente, si\n",
    "se da el caso de que ya estaban convertidas a los tipos que se deseaban transformar no arroja error.\n",
    "\n",
    "Por otra parte las funciones islower() & isupper() indican si una letra está en su modalidad minúscula o mayúscula\n",
    "respectivamente.\n",
    "\"\"\"\n",
    "\n",
    "cadena = \"En algun lugar de La Mancha de cuyo nombre no quiero acordarme, o ha mucho tiempo que vivia un hidalgo de los de lanza en astillero, adarga antigua, rocin flaco y galgo corredor.\"\n",
    " "
   ]
  },
  {
   "cell_type": "code",
   "execution_count": 7,
   "metadata": {},
   "outputs": [],
   "source": [
    "Camel =''\n",
    "cadena_word = cadena.split(\" \")"
   ]
  },
  {
   "cell_type": "code",
   "execution_count": 8,
   "metadata": {},
   "outputs": [],
   "source": [
    "for word in range(len(cadena_word)):\n",
    "    #La primera palabra de la frase se deja intacta\n",
    "    if word==0:\n",
    "        Camel +=cadena_word[word]\n",
    "    #Cuando se llega a la última palabra se verifica los caracteres que son letras,\n",
    "    #Los signos de puntuación (exceptuando el último) se deben remover\n",
    "    elif word==(len(cadena_word)-1):\n",
    "        Camel = ''.join([x for x in Camel if x.isalpha()])\n",
    "        Camel+=cadena_word[word][:1].upper() + cadena_word[word][1:].lower()\n",
    "    #Para todas las palabras se convierte la primera en Mayúscula y las demás minúscula\n",
    "    else:\n",
    "        Camel+=cadena_word[word][:1].upper() + cadena_word[word][1:].lower()\n"
   ]
  },
  {
   "cell_type": "code",
   "execution_count": 9,
   "metadata": {},
   "outputs": [
    {
     "name": "stdout",
     "output_type": "stream",
     "text": [
      "EnAlgunLugarDeLaManchaDeCuyoNombreNoQuieroAcordarmeOHaMuchoTiempoQueViviaUnHidalgoDeLosDeLanzaEnAstilleroAdargaAntiguaRocinFlacoYGalgoCorredor.\n"
     ]
    }
   ],
   "source": [
    "print(Camel)"
   ]
  },
  {
   "cell_type": "code",
   "execution_count": 10,
   "metadata": {},
   "outputs": [
    {
     "name": "stdout",
     "output_type": "stream",
     "text": [
      "['En', 'algun', 'lugar', 'de', 'La', 'Mancha', 'de', 'cuyo', 'nombre', 'no', 'quiero', 'acordarme,', 'o', 'ha', 'mucho', 'tiempo', 'que', 'vivia', 'un', 'hidalgo', 'de', 'los', 'de', 'lanza', 'en', 'astillero,', 'adarga', 'antigua,', 'rocin', 'flaco', 'y', 'galgo', 'corredor.']\n"
     ]
    }
   ],
   "source": [
    "print(cadena_word)"
   ]
  },
  {
   "cell_type": "code",
   "execution_count": 11,
   "metadata": {},
   "outputs": [
    {
     "data": {
      "text/plain": [
       "'\\nSe define \"raíz digital\" a la suma recursiva de todos los dígitos de un número hasta llegar a uno solo, por ejemplo\\n\\nraiz_digital(16)\\n=> 1 + 6\\n=> 7\\n\\nraiz_digital(942)\\n=> 9 + 4 + 2\\n=> 15 ...\\n=> 1 + 5\\n=> 6\\n\\nEntonces el objetivo consiste en implementar el algoritmo de la raiz digital y probar con el número 493193, cuyo resultado\\ndebe ser 2. Sugerencia: la forma recursiva es la más fácil de implementar.\\n\\nCurso rápido para ingresar funciones en Python; basta con declarar:\\n\\n#En def no hay tipo de retorno de dato como en otros lenuajes.\\ndef nombre_funcion(parametro_1,...,parametro_n):\\n    #El return del tipo de dato no cuenta en Python.\\n    return algo\\n\\n'"
      ]
     },
     "execution_count": 11,
     "metadata": {},
     "output_type": "execute_result"
    }
   ],
   "source": [
    "#Ejercicio 4\n",
    "\n",
    "\"\"\"\n",
    "Se define \"raíz digital\" a la suma recursiva de todos los dígitos de un número hasta llegar a uno solo, por ejemplo\n",
    "\n",
    "raiz_digital(16)\n",
    "=> 1 + 6\n",
    "=> 7\n",
    "\n",
    "raiz_digital(942)\n",
    "=> 9 + 4 + 2\n",
    "=> 15 ...\n",
    "=> 1 + 5\n",
    "=> 6\n",
    "\n",
    "Entonces el objetivo consiste en implementar el algoritmo de la raiz digital y probar con el número 493193, cuyo resultado\n",
    "debe ser 2. Sugerencia: la forma recursiva es la más fácil de implementar.\n",
    "\n",
    "Curso rápido para ingresar funciones en Python; basta con declarar:\n",
    "\n",
    "#En def no hay tipo de retorno de dato como en otros lenuajes.\n",
    "def nombre_funcion(parametro_1,...,parametro_n):\n",
    "    #El return del tipo de dato no cuenta en Python.\n",
    "    return algo\n",
    "\n",
    "\"\"\""
   ]
  },
  {
   "cell_type": "code",
   "execution_count": 12,
   "metadata": {},
   "outputs": [],
   "source": [
    "def raiz_digital(Number):\n",
    "    \"\"\"\n",
    "    La función recibe un número y regresa el cálculo de la raíz digial,\n",
    "    esto es la suma de los dígitos de manera recursiva hasta que quede un solo dígito.\n",
    "    \"\"\"\n",
    "    DRoot=0\n",
    "    #Caso Base: Cuando se tenga unicamente un dígito.\n",
    "    if len(str(Number))==1:\n",
    "        return Number\n",
    "    \n",
    "    #Caso Recursivo: Se convierte el número a Str para poder iterar sobre sus dígitos por separado\n",
    "    #se guarda la suma en DRoot en Int y se utiliza como entrada para el siguiente ciclo.\n",
    "    else:\n",
    "        for i in str(Number):\n",
    "            DRoot+=int(i)\n",
    "        return raiz_digital(DRoot)\n",
    "    "
   ]
  },
  {
   "cell_type": "code",
   "execution_count": 13,
   "metadata": {},
   "outputs": [
    {
     "name": "stdout",
     "output_type": "stream",
     "text": [
      "2\n"
     ]
    }
   ],
   "source": [
    "print(raiz_digital(493193))"
   ]
  },
  {
   "cell_type": "markdown",
   "metadata": {},
   "source": [
    "### <center> Ejercicio 5. ¿A qué se le conoce como paso por valor y paso por referencia?, ¿Python en cuál categoría está clasificado? Respuesta en color azul. </center>"
   ]
  },
  {
   "cell_type": "markdown",
   "metadata": {},
   "source": [
    "\n",
    "<div style=\"color: #1418CF\"> \n",
    "Paso por referencia sucede cuanto el que llama y el llamado usan la misma variable para el parámetro, esto quiere decir que si la variable llamada modifica su valor, el efecto se verá en el que llama.\n",
    "\n",
    "Paso por valor sucede cuando el que llama  el llamado usan variables independientes con el mismo valor, esto es, si el que es llamado cambia el valor, el que llama no lo puede ver.\n",
    "\n",
    "Otra forma de verlo es que cuando se hace un paso por valor se evalúa el contenido de la variable a la entrada de una función y ese valor se utiliza para todo el proceso. Cuando es un paso por referencia el valor no se evalúa hasta que se usa y se evalúa cada vez que es utilizado, por lo cual cada cambio en la variable afecta la evaluación siguiente aún dentro de la misma función.\n",
    "\n",
    "En el caso de Python es una situación especial ya que se utiliza algo llamado Paso por Objeto Referencia, lo cual se refiere a que las referencias por objeto se pasan por valor. En la práctica una función recibe una referencia al mismo objeto en memoria que el que llama, pero no recibe el espacio en memoria en el que el que llama guarda el objeto, la función ofrece su propio espacio y crea una nueva variable. Al final ambos tienen el mismo objeto con diferente nombre y en diferente lugar, cuando se modifica uno, también se modifica en el otro.\n",
    "\n",
    "Fuentes:\n",
    "\n",
    "https://robertheaton.com/2014/02/09/pythons-pass-by-object-reference-as-explained-by-philip-k-dick/\n",
    "\n",
    "https://jeffknupp.com/blog/2012/11/13/is-python-callbyvalue-or-callbyreference-neither/\n",
    "\n",
    "</div>"
   ]
  },
  {
   "cell_type": "markdown",
   "metadata": {},
   "source": [
    "### <center> Ejercicio 6. En el argot de computación, ¿a qué se le conoce como herencia?, ¿Python de cuál tipo maneja? Para colocar los tipos de herencia, hágalo usando un listado sencillo </center>"
   ]
  },
  {
   "cell_type": "markdown",
   "metadata": {},
   "source": [
    "<ul> \n",
    "    <li>Herencia es un mecanismo de programación y una propiedad de los objetos que permite crear nuevas clases a partir de otras, al heredar se obtienen atributos y comportamientos de las clases base y se crean clases derivadas.</li> \n",
    "    <li>En python se tiene la herencia simple y la herencia múltiple</li> \n",
    "    <li>La herencia simple ocurre cuando una clase hereda únicamente de otra, con lo cual se puede hacer uso de los atributos de la clase padre desde la instancia.</li> \n",
    "    <li>En la herencia múltiple se pueden tener una o mas clases padre separadas por coma, para evitar el problema del diamante se considera que todas las clases descienden de la calse padre además de que se crea una lista de clases que se buscan de derecha a izquierda y de abajo arriba; se eliminan las apariciones de una clase repetida menos la última. </li> \n",
    "    <li>Fuentes: </li> \n",
    "    <li> https://www.codejobs.biz/es/blog/2013/05/13/herencia-simple-y-multiple-en-python </li> \n",
    "    <li> http://docs.python.org.ar/tutorial/3/classes.html</li> \n",
    "    <li> http://librosweb.es/libro/algoritmos_python/capitulo_15/herencia.html</li> \n",
    "</ul>"
   ]
  },
  {
   "cell_type": "code",
   "execution_count": 14,
   "metadata": {},
   "outputs": [
    {
     "data": {
      "text/plain": [
       "'\\nSuponga que nos encontramos en una fiesta de graduación de preparatoria, de aquéllas lindas de antaño y no\\nuna conjunción de pecado como American Pie.\\n\\nTambién asumamos que existen 3 tipos de personas (no nos metemos con faltas a la suposición de género): hombres (H)\\nmujeres(M) y chaperones (C).\\n\\nComo su nombre lo dice, un chaperón debe interponerse entre un hombre y una mujer para que no existan situaciones \\nlascivas. Para nuestro caso, teniendo una reunión (lista) del tipo:\\n\\n[H,M,H,M,H,M,H,M,H,M,H,M]\\n\\nDeben colocarse chaperones cada vez que se encuentren una correspondencia del tipo HM o MH, \\nen nuestro caso la solución sería:\\n\\n[H,C,M,C,H,C,M,C,H,C,M,C,H,C,M,C,H,C,M,C,H,C,M]\\n\\nAunque lo anterior es sólo un ejemplo pueden darse casos en el que existan parejas MM y HH.\\n\\nEntonces, ¿en qué consiste el ejercicio?, en que dada la siguiente reunión (lista):\\n\\n[H,M,M,H,M,M,M,H,M,H,H,M,H,M,H,M,H,M,M,H,M,H,M,M,H,M,H,M,H,H,M,M,H,M,H,M,M,H,M,H,M,H,M,H,M,H,M]\\n\\nSe debe imprimir una lista resultado con todos los chaperones puestos apropiadamente para evitar la situación lasciva\\nmencionada.\\n'"
      ]
     },
     "execution_count": 14,
     "metadata": {},
     "output_type": "execute_result"
    }
   ],
   "source": [
    "#Ejercicio 7\n",
    "\n",
    "\"\"\"\n",
    "Suponga que nos encontramos en una fiesta de graduación de preparatoria, de aquéllas lindas de antaño y no\n",
    "una conjunción de pecado como American Pie.\n",
    "\n",
    "También asumamos que existen 3 tipos de personas (no nos metemos con faltas a la suposición de género): hombres (H)\n",
    "mujeres(M) y chaperones (C).\n",
    "\n",
    "Como su nombre lo dice, un chaperón debe interponerse entre un hombre y una mujer para que no existan situaciones \n",
    "lascivas. Para nuestro caso, teniendo una reunión (lista) del tipo:\n",
    "\n",
    "[H,M,H,M,H,M,H,M,H,M,H,M]\n",
    "\n",
    "Deben colocarse chaperones cada vez que se encuentren una correspondencia del tipo HM o MH, \n",
    "en nuestro caso la solución sería:\n",
    "\n",
    "[H,C,M,C,H,C,M,C,H,C,M,C,H,C,M,C,H,C,M,C,H,C,M]\n",
    "\n",
    "Aunque lo anterior es sólo un ejemplo pueden darse casos en el que existan parejas MM y HH.\n",
    "\n",
    "Entonces, ¿en qué consiste el ejercicio?, en que dada la siguiente reunión (lista):\n",
    "\n",
    "[H,M,M,H,M,M,M,H,M,H,H,M,H,M,H,M,H,M,M,H,M,H,M,M,H,M,H,M,H,H,M,M,H,M,H,M,M,H,M,H,M,H,M,H,M,H,M]\n",
    "\n",
    "Se debe imprimir una lista resultado con todos los chaperones puestos apropiadamente para evitar la situación lasciva\n",
    "mencionada.\n",
    "\"\"\"\n"
   ]
  },
  {
   "cell_type": "markdown",
   "metadata": {},
   "source": [
    "## Resultado\n",
    "Para este ejercicio la idea es hacer una lista por comprensión que identifique la regla, la cual se puede traducir en identificar cuando el siguiente invitado sea diferente al anterior, con eso en mente el primer paso es agregar un elemento al final de la lista igual al último elemento para evitar el index out of range al comparar el elemento actual contra el elemento siguiente (se podría colocar una condición if para este escenario pero es mas eficiente simplemete replicar el último elemento, lo cual evitará que se dispare la condición x[i]!=x[i+1] ). \n",
    "Se utiliza chain de itertools para encadenar cada elemento dentro de las listas que se crean cuando se cumple la condición, ya que se regresa una tupla con dos valores.\n",
    "Para eficientar se hace uso de lazzy para que se evalúe una única vez y se aprovechen los beneficios de itertools.\n",
    "Por último se hace uso de una acción al convertir el resultado en una lista, con lo cual se desencadena el procesamiento y evaluación."
   ]
  },
  {
   "cell_type": "code",
   "execution_count": 15,
   "metadata": {},
   "outputs": [],
   "source": [
    "from itertools import chain as ch"
   ]
  },
  {
   "cell_type": "code",
   "execution_count": 16,
   "metadata": {},
   "outputs": [],
   "source": [
    "Guests = ['H','M','M','H','M','M','M','H','M','H','H','M','H','M','H','M','H','M','M','H','M','H','M','M','H','M','H','M','H','H','M','M','H','M','H','M','M','H','M','H','M','H','M','H','M','H','M']\n"
   ]
  },
  {
   "cell_type": "code",
   "execution_count": 17,
   "metadata": {},
   "outputs": [],
   "source": [
    "Gests=Guests.append(Guests[-1])"
   ]
  },
  {
   "cell_type": "code",
   "execution_count": 18,
   "metadata": {},
   "outputs": [],
   "source": [
    "NGuests=list(ch.from_iterable((Guests[x], 'C') if Guests[x]!=Guests[x+1] else Guests[x] for x in range(len(Guests)-1)))"
   ]
  },
  {
   "cell_type": "code",
   "execution_count": 19,
   "metadata": {},
   "outputs": [
    {
     "name": "stdout",
     "output_type": "stream",
     "text": [
      "['H', 'C', 'M', 'M', 'C', 'H', 'C', 'M', 'M', 'M', 'C', 'H', 'C', 'M', 'C', 'H', 'H', 'C', 'M', 'C', 'H', 'C', 'M', 'C', 'H', 'C', 'M', 'C', 'H', 'C', 'M', 'M', 'C', 'H', 'C', 'M', 'C', 'H', 'C', 'M', 'M', 'C', 'H', 'C', 'M', 'C', 'H', 'C', 'M', 'C', 'H', 'H', 'C', 'M', 'M', 'C', 'H', 'C', 'M', 'C', 'H', 'C', 'M', 'M', 'C', 'H', 'C', 'M', 'C', 'H', 'C', 'M', 'C', 'H', 'C', 'M', 'C', 'H', 'C', 'M', 'C', 'H', 'C', 'M']\n"
     ]
    }
   ],
   "source": [
    "print(NGuests)"
   ]
  },
  {
   "cell_type": "markdown",
   "metadata": {},
   "source": [
    "### <center> Ejercicio 8. ¿Qué entiende por paradigma de lenguaje de programación y cuáles son sus clasificaciones, ¿Python en cuál(es) categoría(s) puede entrar? Toda la respuesta en color café, por cada clasificación use un listado numérico. </center>"
   ]
  },
  {
   "cell_type": "markdown",
   "metadata": {},
   "source": [
    "<div style=\"color: \t#8B4513\"> \n",
    "Un paradigma de lenguaje de programación es un estilo de desarrollo de programas, es decir un modelo para resilver los problemas que se puedan presentar computacionalmente. Los lenguajes de programación se pueden enlistar de acuerdo al tipo de órdenes que permiten y esto va referido a su sintaxis.\n",
    "<ol>\n",
    "Funcional:\n",
    "<li> Se computa mediante evaluación de expresiones</li>\n",
    "<li>Definición de funciones</li>\n",
    "<li>Funciones como datos primitivos</li>\n",
    "<li>Programación declarativa</li>\n",
    "</ol>\n",
    "\n",
    "<ol>\n",
    "Lógico\n",
    "<li>Se definen reglas</li>\n",
    "<li>La uificación es elemental</li>\n",
    "</ol>\n",
    "\n",
    "<ol>\n",
    "Imperativo\n",
    "<li>Se definen procedimiento</li>\n",
    "<li>Se definen tipos de datos</li>\n",
    "<li>Se tienen cambios de estado de variables</li>\n",
    "</ol>\n",
    "\n",
    "<ol>\n",
    "Orientado a objetos\n",
    "<li>Se definen clases y herencia</li>\n",
    "<li>Se usan objetos para abstraer datos y procedimientos</li>\n",
    "<li>orientado a aspectos</li>\n",
    "</ol>\n",
    "\n",
    "<ol>\n",
    "Dirigido por eventos,orientado a aspectos\n",
    "</ol>\n",
    "\n",
    "Python puede entrar en:\n",
    "\n",
    "<li>Orientado a objetos</li>\n",
    "<li>Imperativa</li>\n",
    "<li>Funcional</li>\n",
    "\n",
    "<ul> \n",
    "Fuentes:\n",
    "<li>http://www.dccia.ua.es/dccia/inf/asignaturas/LPP/2010-2011/clases-cristina/s2.pdf</li> \n",
    "<li>http://www.4rsoluciones.com/blog/que-son-los-paradigmas-de-programacion-2/</li> \n",
    "    <li>https://es.wikipedia.org/wiki/Python</li>\n",
    "</ul>\n",
    "\n",
    "\n",
    "\n",
    "</div>"
   ]
  },
  {
   "cell_type": "code",
   "execution_count": 20,
   "metadata": {},
   "outputs": [
    {
     "data": {
      "text/plain": [
       "'\\nCon base en el archivo ejercicio_5.txt de la tarea anterior cree un dataframe de Pandas considerando \\nel encabezado, por ahora no se preocupe del tipo de dato.\\n'"
      ]
     },
     "execution_count": 20,
     "metadata": {},
     "output_type": "execute_result"
    }
   ],
   "source": [
    "#Ejercicio 9\n",
    "\n",
    "\"\"\"\n",
    "Con base en el archivo ejercicio_5.txt de la tarea anterior cree un dataframe de Pandas considerando \n",
    "el encabezado, por ahora no se preocupe del tipo de dato.\n",
    "\"\"\"\n"
   ]
  },
  {
   "cell_type": "code",
   "execution_count": 21,
   "metadata": {},
   "outputs": [],
   "source": [
    "import pandas as pd"
   ]
  },
  {
   "cell_type": "code",
   "execution_count": 22,
   "metadata": {},
   "outputs": [],
   "source": [
    "dataframe = pd.read_csv(\"ejercicio_5.txt\")"
   ]
  },
  {
   "cell_type": "code",
   "execution_count": 23,
   "metadata": {},
   "outputs": [
    {
     "data": {
      "text/html": [
       "<div>\n",
       "<style scoped>\n",
       "    .dataframe tbody tr th:only-of-type {\n",
       "        vertical-align: middle;\n",
       "    }\n",
       "\n",
       "    .dataframe tbody tr th {\n",
       "        vertical-align: top;\n",
       "    }\n",
       "\n",
       "    .dataframe thead th {\n",
       "        text-align: right;\n",
       "    }\n",
       "</style>\n",
       "<table border=\"1\" class=\"dataframe\">\n",
       "  <thead>\n",
       "    <tr style=\"text-align: right;\">\n",
       "      <th></th>\n",
       "      <th>Year</th>\n",
       "      <th>Month</th>\n",
       "      <th>DayofMonth</th>\n",
       "      <th>DayOfWeek</th>\n",
       "      <th>DepTime</th>\n",
       "      <th>CRSDepTime</th>\n",
       "      <th>ArrTime</th>\n",
       "      <th>CRSArrTime</th>\n",
       "      <th>UniqueCarrier</th>\n",
       "      <th>FlightNum</th>\n",
       "      <th>...</th>\n",
       "      <th>TaxiIn</th>\n",
       "      <th>TaxiOut</th>\n",
       "      <th>Cancelled</th>\n",
       "      <th>CancellationCode</th>\n",
       "      <th>Diverted</th>\n",
       "      <th>CarrierDelay</th>\n",
       "      <th>WeatherDelay</th>\n",
       "      <th>NASDelay</th>\n",
       "      <th>SecurityDelay</th>\n",
       "      <th>LateAircraftDelay</th>\n",
       "    </tr>\n",
       "  </thead>\n",
       "  <tbody>\n",
       "    <tr>\n",
       "      <th>1</th>\n",
       "      <td>1987</td>\n",
       "      <td>10</td>\n",
       "      <td>15</td>\n",
       "      <td>4</td>\n",
       "      <td>729</td>\n",
       "      <td>730</td>\n",
       "      <td>903</td>\n",
       "      <td>849</td>\n",
       "      <td>PS</td>\n",
       "      <td>1451</td>\n",
       "      <td>...</td>\n",
       "      <td>NaN</td>\n",
       "      <td>NaN</td>\n",
       "      <td>0</td>\n",
       "      <td>NaN</td>\n",
       "      <td>0</td>\n",
       "      <td>NaN</td>\n",
       "      <td>NaN</td>\n",
       "      <td>NaN</td>\n",
       "      <td>NaN</td>\n",
       "      <td>NA</td>\n",
       "    </tr>\n",
       "    <tr>\n",
       "      <th>2</th>\n",
       "      <td>1987</td>\n",
       "      <td>10</td>\n",
       "      <td>17</td>\n",
       "      <td>6</td>\n",
       "      <td>741</td>\n",
       "      <td>730</td>\n",
       "      <td>918</td>\n",
       "      <td>849</td>\n",
       "      <td>PS</td>\n",
       "      <td>1451</td>\n",
       "      <td>...</td>\n",
       "      <td>NaN</td>\n",
       "      <td>NaN</td>\n",
       "      <td>0</td>\n",
       "      <td>NaN</td>\n",
       "      <td>0</td>\n",
       "      <td>NaN</td>\n",
       "      <td>NaN</td>\n",
       "      <td>NaN</td>\n",
       "      <td>NaN</td>\n",
       "      <td>NA</td>\n",
       "    </tr>\n",
       "    <tr>\n",
       "      <th>3</th>\n",
       "      <td>1987</td>\n",
       "      <td>10</td>\n",
       "      <td>18</td>\n",
       "      <td>7</td>\n",
       "      <td>729</td>\n",
       "      <td>730</td>\n",
       "      <td>847</td>\n",
       "      <td>849</td>\n",
       "      <td>PS</td>\n",
       "      <td>1451</td>\n",
       "      <td>...</td>\n",
       "      <td>NaN</td>\n",
       "      <td>NaN</td>\n",
       "      <td>0</td>\n",
       "      <td>NaN</td>\n",
       "      <td>0</td>\n",
       "      <td>NaN</td>\n",
       "      <td>NaN</td>\n",
       "      <td>NaN</td>\n",
       "      <td>NaN</td>\n",
       "      <td>NA</td>\n",
       "    </tr>\n",
       "    <tr>\n",
       "      <th>4</th>\n",
       "      <td>1987</td>\n",
       "      <td>10</td>\n",
       "      <td>19</td>\n",
       "      <td>1</td>\n",
       "      <td>749</td>\n",
       "      <td>730</td>\n",
       "      <td>922</td>\n",
       "      <td>849</td>\n",
       "      <td>PS</td>\n",
       "      <td>1451</td>\n",
       "      <td>...</td>\n",
       "      <td>NaN</td>\n",
       "      <td>NaN</td>\n",
       "      <td>0</td>\n",
       "      <td>NaN</td>\n",
       "      <td>0</td>\n",
       "      <td>NaN</td>\n",
       "      <td>NaN</td>\n",
       "      <td>NaN</td>\n",
       "      <td>NaN</td>\n",
       "      <td>NA</td>\n",
       "    </tr>\n",
       "    <tr>\n",
       "      <th>5</th>\n",
       "      <td>1987</td>\n",
       "      <td>10</td>\n",
       "      <td>21</td>\n",
       "      <td>3</td>\n",
       "      <td>728</td>\n",
       "      <td>730</td>\n",
       "      <td>848</td>\n",
       "      <td>849</td>\n",
       "      <td>PS</td>\n",
       "      <td>1451</td>\n",
       "      <td>...</td>\n",
       "      <td>NaN</td>\n",
       "      <td>NaN</td>\n",
       "      <td>0</td>\n",
       "      <td>NaN</td>\n",
       "      <td>0</td>\n",
       "      <td>NaN</td>\n",
       "      <td>NaN</td>\n",
       "      <td>NaN</td>\n",
       "      <td>NaN</td>\n",
       "      <td>NA</td>\n",
       "    </tr>\n",
       "    <tr>\n",
       "      <th>6</th>\n",
       "      <td>1987</td>\n",
       "      <td>10</td>\n",
       "      <td>22</td>\n",
       "      <td>4</td>\n",
       "      <td>728</td>\n",
       "      <td>730</td>\n",
       "      <td>852</td>\n",
       "      <td>849</td>\n",
       "      <td>PS</td>\n",
       "      <td>1451</td>\n",
       "      <td>...</td>\n",
       "      <td>NaN</td>\n",
       "      <td>NaN</td>\n",
       "      <td>0</td>\n",
       "      <td>NaN</td>\n",
       "      <td>0</td>\n",
       "      <td>NaN</td>\n",
       "      <td>NaN</td>\n",
       "      <td>NaN</td>\n",
       "      <td>NaN</td>\n",
       "      <td>NA</td>\n",
       "    </tr>\n",
       "    <tr>\n",
       "      <th>7</th>\n",
       "      <td>1987</td>\n",
       "      <td>10</td>\n",
       "      <td>23</td>\n",
       "      <td>5</td>\n",
       "      <td>731</td>\n",
       "      <td>730</td>\n",
       "      <td>902</td>\n",
       "      <td>849</td>\n",
       "      <td>PS</td>\n",
       "      <td>1451</td>\n",
       "      <td>...</td>\n",
       "      <td>NaN</td>\n",
       "      <td>NaN</td>\n",
       "      <td>0</td>\n",
       "      <td>NaN</td>\n",
       "      <td>0</td>\n",
       "      <td>NaN</td>\n",
       "      <td>NaN</td>\n",
       "      <td>NaN</td>\n",
       "      <td>NaN</td>\n",
       "      <td>NA</td>\n",
       "    </tr>\n",
       "    <tr>\n",
       "      <th>8</th>\n",
       "      <td>1987</td>\n",
       "      <td>10</td>\n",
       "      <td>24</td>\n",
       "      <td>6</td>\n",
       "      <td>744</td>\n",
       "      <td>730</td>\n",
       "      <td>908</td>\n",
       "      <td>849</td>\n",
       "      <td>PS</td>\n",
       "      <td>1451</td>\n",
       "      <td>...</td>\n",
       "      <td>NaN</td>\n",
       "      <td>NaN</td>\n",
       "      <td>0</td>\n",
       "      <td>NaN</td>\n",
       "      <td>0</td>\n",
       "      <td>NaN</td>\n",
       "      <td>NaN</td>\n",
       "      <td>NaN</td>\n",
       "      <td>NaN</td>\n",
       "      <td>NA</td>\n",
       "    </tr>\n",
       "    <tr>\n",
       "      <th>9</th>\n",
       "      <td>1987</td>\n",
       "      <td>10</td>\n",
       "      <td>25</td>\n",
       "      <td>7</td>\n",
       "      <td>729</td>\n",
       "      <td>730</td>\n",
       "      <td>851</td>\n",
       "      <td>849</td>\n",
       "      <td>PS</td>\n",
       "      <td>1451</td>\n",
       "      <td>...</td>\n",
       "      <td>NaN</td>\n",
       "      <td>NaN</td>\n",
       "      <td>0</td>\n",
       "      <td>NaN</td>\n",
       "      <td>0</td>\n",
       "      <td>NaN</td>\n",
       "      <td>NaN</td>\n",
       "      <td>NaN</td>\n",
       "      <td>NaN</td>\n",
       "      <td>NA</td>\n",
       "    </tr>\n",
       "  </tbody>\n",
       "</table>\n",
       "<p>9 rows × 29 columns</p>\n",
       "</div>"
      ],
      "text/plain": [
       "   Year  Month  DayofMonth  DayOfWeek  DepTime  CRSDepTime  ArrTime  \\\n",
       "1  1987     10          15          4      729         730      903   \n",
       "2  1987     10          17          6      741         730      918   \n",
       "3  1987     10          18          7      729         730      847   \n",
       "4  1987     10          19          1      749         730      922   \n",
       "5  1987     10          21          3      728         730      848   \n",
       "6  1987     10          22          4      728         730      852   \n",
       "7  1987     10          23          5      731         730      902   \n",
       "8  1987     10          24          6      744         730      908   \n",
       "9  1987     10          25          7      729         730      851   \n",
       "\n",
       "   CRSArrTime UniqueCarrier  FlightNum         ...         TaxiIn  TaxiOut  \\\n",
       "1         849            PS       1451         ...            NaN      NaN   \n",
       "2         849            PS       1451         ...            NaN      NaN   \n",
       "3         849            PS       1451         ...            NaN      NaN   \n",
       "4         849            PS       1451         ...            NaN      NaN   \n",
       "5         849            PS       1451         ...            NaN      NaN   \n",
       "6         849            PS       1451         ...            NaN      NaN   \n",
       "7         849            PS       1451         ...            NaN      NaN   \n",
       "8         849            PS       1451         ...            NaN      NaN   \n",
       "9         849            PS       1451         ...            NaN      NaN   \n",
       "\n",
       "   Cancelled  CancellationCode  Diverted  CarrierDelay WeatherDelay NASDelay  \\\n",
       "1          0               NaN         0           NaN          NaN      NaN   \n",
       "2          0               NaN         0           NaN          NaN      NaN   \n",
       "3          0               NaN         0           NaN          NaN      NaN   \n",
       "4          0               NaN         0           NaN          NaN      NaN   \n",
       "5          0               NaN         0           NaN          NaN      NaN   \n",
       "6          0               NaN         0           NaN          NaN      NaN   \n",
       "7          0               NaN         0           NaN          NaN      NaN   \n",
       "8          0               NaN         0           NaN          NaN      NaN   \n",
       "9          0               NaN         0           NaN          NaN      NaN   \n",
       "\n",
       "   SecurityDelay  LateAircraftDelay   \n",
       "1            NaN                 NA   \n",
       "2            NaN                 NA   \n",
       "3            NaN                 NA   \n",
       "4            NaN                 NA   \n",
       "5            NaN                 NA   \n",
       "6            NaN                 NA   \n",
       "7            NaN                 NA   \n",
       "8            NaN                 NA   \n",
       "9            NaN                 NA   \n",
       "\n",
       "[9 rows x 29 columns]"
      ]
     },
     "execution_count": 23,
     "metadata": {},
     "output_type": "execute_result"
    }
   ],
   "source": [
    "dataframe[1:10]"
   ]
  },
  {
   "cell_type": "code",
   "execution_count": 24,
   "metadata": {},
   "outputs": [
    {
     "data": {
      "text/plain": [
       "'Tome el dataframe de Pandas del ejercicio anterior, guárdelo como un archivo de tipo .pickle con el nombre:\\n<su_usuario_de_git> y colóquelo en el subdirectorio \"Tarea Semana 2\" \\n'"
      ]
     },
     "execution_count": 24,
     "metadata": {},
     "output_type": "execute_result"
    }
   ],
   "source": [
    "#Ejercicio 10\n",
    "\n",
    "\"\"\"Tome el dataframe de Pandas del ejercicio anterior, guárdelo como un archivo de tipo .pickle con el nombre:\n",
    "<su_usuario_de_git> y colóquelo en el subdirectorio \"Tarea Semana 2\" \n",
    "\"\"\""
   ]
  },
  {
   "cell_type": "code",
   "execution_count": 25,
   "metadata": {},
   "outputs": [],
   "source": [
    "import pickle as pk"
   ]
  },
  {
   "cell_type": "code",
   "execution_count": 27,
   "metadata": {},
   "outputs": [],
   "source": [
    "pk.dump(dataframe, open(\"Urielmm.p\",\"wb\"))"
   ]
  },
  {
   "cell_type": "code",
   "execution_count": 28,
   "metadata": {},
   "outputs": [],
   "source": [
    "data_load = pk.load(open(\"Urielmm.p\",\"rb\"))"
   ]
  },
  {
   "cell_type": "code",
   "execution_count": 29,
   "metadata": {},
   "outputs": [
    {
     "data": {
      "text/html": [
       "<div>\n",
       "<style scoped>\n",
       "    .dataframe tbody tr th:only-of-type {\n",
       "        vertical-align: middle;\n",
       "    }\n",
       "\n",
       "    .dataframe tbody tr th {\n",
       "        vertical-align: top;\n",
       "    }\n",
       "\n",
       "    .dataframe thead th {\n",
       "        text-align: right;\n",
       "    }\n",
       "</style>\n",
       "<table border=\"1\" class=\"dataframe\">\n",
       "  <thead>\n",
       "    <tr style=\"text-align: right;\">\n",
       "      <th></th>\n",
       "      <th>Year</th>\n",
       "      <th>Month</th>\n",
       "      <th>DayofMonth</th>\n",
       "      <th>DayOfWeek</th>\n",
       "      <th>DepTime</th>\n",
       "      <th>CRSDepTime</th>\n",
       "      <th>ArrTime</th>\n",
       "      <th>CRSArrTime</th>\n",
       "      <th>UniqueCarrier</th>\n",
       "      <th>FlightNum</th>\n",
       "      <th>...</th>\n",
       "      <th>TaxiIn</th>\n",
       "      <th>TaxiOut</th>\n",
       "      <th>Cancelled</th>\n",
       "      <th>CancellationCode</th>\n",
       "      <th>Diverted</th>\n",
       "      <th>CarrierDelay</th>\n",
       "      <th>WeatherDelay</th>\n",
       "      <th>NASDelay</th>\n",
       "      <th>SecurityDelay</th>\n",
       "      <th>LateAircraftDelay</th>\n",
       "    </tr>\n",
       "  </thead>\n",
       "  <tbody>\n",
       "    <tr>\n",
       "      <th>1</th>\n",
       "      <td>1987</td>\n",
       "      <td>10</td>\n",
       "      <td>15</td>\n",
       "      <td>4</td>\n",
       "      <td>729</td>\n",
       "      <td>730</td>\n",
       "      <td>903</td>\n",
       "      <td>849</td>\n",
       "      <td>PS</td>\n",
       "      <td>1451</td>\n",
       "      <td>...</td>\n",
       "      <td>NaN</td>\n",
       "      <td>NaN</td>\n",
       "      <td>0</td>\n",
       "      <td>NaN</td>\n",
       "      <td>0</td>\n",
       "      <td>NaN</td>\n",
       "      <td>NaN</td>\n",
       "      <td>NaN</td>\n",
       "      <td>NaN</td>\n",
       "      <td>NA</td>\n",
       "    </tr>\n",
       "    <tr>\n",
       "      <th>2</th>\n",
       "      <td>1987</td>\n",
       "      <td>10</td>\n",
       "      <td>17</td>\n",
       "      <td>6</td>\n",
       "      <td>741</td>\n",
       "      <td>730</td>\n",
       "      <td>918</td>\n",
       "      <td>849</td>\n",
       "      <td>PS</td>\n",
       "      <td>1451</td>\n",
       "      <td>...</td>\n",
       "      <td>NaN</td>\n",
       "      <td>NaN</td>\n",
       "      <td>0</td>\n",
       "      <td>NaN</td>\n",
       "      <td>0</td>\n",
       "      <td>NaN</td>\n",
       "      <td>NaN</td>\n",
       "      <td>NaN</td>\n",
       "      <td>NaN</td>\n",
       "      <td>NA</td>\n",
       "    </tr>\n",
       "    <tr>\n",
       "      <th>3</th>\n",
       "      <td>1987</td>\n",
       "      <td>10</td>\n",
       "      <td>18</td>\n",
       "      <td>7</td>\n",
       "      <td>729</td>\n",
       "      <td>730</td>\n",
       "      <td>847</td>\n",
       "      <td>849</td>\n",
       "      <td>PS</td>\n",
       "      <td>1451</td>\n",
       "      <td>...</td>\n",
       "      <td>NaN</td>\n",
       "      <td>NaN</td>\n",
       "      <td>0</td>\n",
       "      <td>NaN</td>\n",
       "      <td>0</td>\n",
       "      <td>NaN</td>\n",
       "      <td>NaN</td>\n",
       "      <td>NaN</td>\n",
       "      <td>NaN</td>\n",
       "      <td>NA</td>\n",
       "    </tr>\n",
       "    <tr>\n",
       "      <th>4</th>\n",
       "      <td>1987</td>\n",
       "      <td>10</td>\n",
       "      <td>19</td>\n",
       "      <td>1</td>\n",
       "      <td>749</td>\n",
       "      <td>730</td>\n",
       "      <td>922</td>\n",
       "      <td>849</td>\n",
       "      <td>PS</td>\n",
       "      <td>1451</td>\n",
       "      <td>...</td>\n",
       "      <td>NaN</td>\n",
       "      <td>NaN</td>\n",
       "      <td>0</td>\n",
       "      <td>NaN</td>\n",
       "      <td>0</td>\n",
       "      <td>NaN</td>\n",
       "      <td>NaN</td>\n",
       "      <td>NaN</td>\n",
       "      <td>NaN</td>\n",
       "      <td>NA</td>\n",
       "    </tr>\n",
       "    <tr>\n",
       "      <th>5</th>\n",
       "      <td>1987</td>\n",
       "      <td>10</td>\n",
       "      <td>21</td>\n",
       "      <td>3</td>\n",
       "      <td>728</td>\n",
       "      <td>730</td>\n",
       "      <td>848</td>\n",
       "      <td>849</td>\n",
       "      <td>PS</td>\n",
       "      <td>1451</td>\n",
       "      <td>...</td>\n",
       "      <td>NaN</td>\n",
       "      <td>NaN</td>\n",
       "      <td>0</td>\n",
       "      <td>NaN</td>\n",
       "      <td>0</td>\n",
       "      <td>NaN</td>\n",
       "      <td>NaN</td>\n",
       "      <td>NaN</td>\n",
       "      <td>NaN</td>\n",
       "      <td>NA</td>\n",
       "    </tr>\n",
       "    <tr>\n",
       "      <th>6</th>\n",
       "      <td>1987</td>\n",
       "      <td>10</td>\n",
       "      <td>22</td>\n",
       "      <td>4</td>\n",
       "      <td>728</td>\n",
       "      <td>730</td>\n",
       "      <td>852</td>\n",
       "      <td>849</td>\n",
       "      <td>PS</td>\n",
       "      <td>1451</td>\n",
       "      <td>...</td>\n",
       "      <td>NaN</td>\n",
       "      <td>NaN</td>\n",
       "      <td>0</td>\n",
       "      <td>NaN</td>\n",
       "      <td>0</td>\n",
       "      <td>NaN</td>\n",
       "      <td>NaN</td>\n",
       "      <td>NaN</td>\n",
       "      <td>NaN</td>\n",
       "      <td>NA</td>\n",
       "    </tr>\n",
       "    <tr>\n",
       "      <th>7</th>\n",
       "      <td>1987</td>\n",
       "      <td>10</td>\n",
       "      <td>23</td>\n",
       "      <td>5</td>\n",
       "      <td>731</td>\n",
       "      <td>730</td>\n",
       "      <td>902</td>\n",
       "      <td>849</td>\n",
       "      <td>PS</td>\n",
       "      <td>1451</td>\n",
       "      <td>...</td>\n",
       "      <td>NaN</td>\n",
       "      <td>NaN</td>\n",
       "      <td>0</td>\n",
       "      <td>NaN</td>\n",
       "      <td>0</td>\n",
       "      <td>NaN</td>\n",
       "      <td>NaN</td>\n",
       "      <td>NaN</td>\n",
       "      <td>NaN</td>\n",
       "      <td>NA</td>\n",
       "    </tr>\n",
       "    <tr>\n",
       "      <th>8</th>\n",
       "      <td>1987</td>\n",
       "      <td>10</td>\n",
       "      <td>24</td>\n",
       "      <td>6</td>\n",
       "      <td>744</td>\n",
       "      <td>730</td>\n",
       "      <td>908</td>\n",
       "      <td>849</td>\n",
       "      <td>PS</td>\n",
       "      <td>1451</td>\n",
       "      <td>...</td>\n",
       "      <td>NaN</td>\n",
       "      <td>NaN</td>\n",
       "      <td>0</td>\n",
       "      <td>NaN</td>\n",
       "      <td>0</td>\n",
       "      <td>NaN</td>\n",
       "      <td>NaN</td>\n",
       "      <td>NaN</td>\n",
       "      <td>NaN</td>\n",
       "      <td>NA</td>\n",
       "    </tr>\n",
       "    <tr>\n",
       "      <th>9</th>\n",
       "      <td>1987</td>\n",
       "      <td>10</td>\n",
       "      <td>25</td>\n",
       "      <td>7</td>\n",
       "      <td>729</td>\n",
       "      <td>730</td>\n",
       "      <td>851</td>\n",
       "      <td>849</td>\n",
       "      <td>PS</td>\n",
       "      <td>1451</td>\n",
       "      <td>...</td>\n",
       "      <td>NaN</td>\n",
       "      <td>NaN</td>\n",
       "      <td>0</td>\n",
       "      <td>NaN</td>\n",
       "      <td>0</td>\n",
       "      <td>NaN</td>\n",
       "      <td>NaN</td>\n",
       "      <td>NaN</td>\n",
       "      <td>NaN</td>\n",
       "      <td>NA</td>\n",
       "    </tr>\n",
       "  </tbody>\n",
       "</table>\n",
       "<p>9 rows × 29 columns</p>\n",
       "</div>"
      ],
      "text/plain": [
       "   Year  Month  DayofMonth  DayOfWeek  DepTime  CRSDepTime  ArrTime  \\\n",
       "1  1987     10          15          4      729         730      903   \n",
       "2  1987     10          17          6      741         730      918   \n",
       "3  1987     10          18          7      729         730      847   \n",
       "4  1987     10          19          1      749         730      922   \n",
       "5  1987     10          21          3      728         730      848   \n",
       "6  1987     10          22          4      728         730      852   \n",
       "7  1987     10          23          5      731         730      902   \n",
       "8  1987     10          24          6      744         730      908   \n",
       "9  1987     10          25          7      729         730      851   \n",
       "\n",
       "   CRSArrTime UniqueCarrier  FlightNum         ...         TaxiIn  TaxiOut  \\\n",
       "1         849            PS       1451         ...            NaN      NaN   \n",
       "2         849            PS       1451         ...            NaN      NaN   \n",
       "3         849            PS       1451         ...            NaN      NaN   \n",
       "4         849            PS       1451         ...            NaN      NaN   \n",
       "5         849            PS       1451         ...            NaN      NaN   \n",
       "6         849            PS       1451         ...            NaN      NaN   \n",
       "7         849            PS       1451         ...            NaN      NaN   \n",
       "8         849            PS       1451         ...            NaN      NaN   \n",
       "9         849            PS       1451         ...            NaN      NaN   \n",
       "\n",
       "   Cancelled  CancellationCode  Diverted  CarrierDelay WeatherDelay NASDelay  \\\n",
       "1          0               NaN         0           NaN          NaN      NaN   \n",
       "2          0               NaN         0           NaN          NaN      NaN   \n",
       "3          0               NaN         0           NaN          NaN      NaN   \n",
       "4          0               NaN         0           NaN          NaN      NaN   \n",
       "5          0               NaN         0           NaN          NaN      NaN   \n",
       "6          0               NaN         0           NaN          NaN      NaN   \n",
       "7          0               NaN         0           NaN          NaN      NaN   \n",
       "8          0               NaN         0           NaN          NaN      NaN   \n",
       "9          0               NaN         0           NaN          NaN      NaN   \n",
       "\n",
       "   SecurityDelay  LateAircraftDelay   \n",
       "1            NaN                 NA   \n",
       "2            NaN                 NA   \n",
       "3            NaN                 NA   \n",
       "4            NaN                 NA   \n",
       "5            NaN                 NA   \n",
       "6            NaN                 NA   \n",
       "7            NaN                 NA   \n",
       "8            NaN                 NA   \n",
       "9            NaN                 NA   \n",
       "\n",
       "[9 rows x 29 columns]"
      ]
     },
     "execution_count": 29,
     "metadata": {},
     "output_type": "execute_result"
    }
   ],
   "source": [
    "data_load[1:10]"
   ]
  },
  {
   "cell_type": "markdown",
   "metadata": {},
   "source": [
    "## <center> Los siguientes ejercicios son los puntos extra tal y como se acordó de acuerdo a las preguntas debidamente contestadas, excepto para aquéllos que tienen que cumplir la penalización. </center> "
   ]
  },
  {
   "cell_type": "code",
   "execution_count": 30,
   "metadata": {},
   "outputs": [
    {
     "data": {
      "text/plain": [
       "'\\nPara este ejercicio se debe implementar un programa que tome el lenguaje natural y lo convierta a código Morse:\\n\\nhttps://www.electronics-notes.com/articles/ham_radio/morse_code/characters-table-chart.php\\n\\nUsando solamente un ciclo for/while; if-else y demás no tienen limitantes.\\n\\nPara las pruebas de traducción exitosa se puede ocupar este ejemplo:\\n\\nCreo que aquello en lo que nos convertimos depende de lo que nuestros padres nos enseñan en pequeños momentos, \\ncuando no están intentando enseñarnos. Estamos hechos de pequeños fragmentos de sabiduría.\\n\\nY el siguiente sitio:\\n\\nhttps://morsecode.scphillips.com/translator.html?utm_source=hootsuite\\n\\nNOTA: puede deshacerse de los signos de puntuación pero no de las letras acentuadas, por otro lado las mayúsculas \\ny minúsculas se comportan igual (upper(), lower()).\\nEn este caso puede convertir las letras \"á\" ó \"à\" o \"â\" por \"a\" y la \"ñ\" por \"n\".\\n'"
      ]
     },
     "execution_count": 30,
     "metadata": {},
     "output_type": "execute_result"
    }
   ],
   "source": [
    "#Ejercicio 11 \n",
    "\n",
    "\"\"\"\n",
    "Para este ejercicio se debe implementar un programa que tome el lenguaje natural y lo convierta a código Morse:\n",
    "\n",
    "https://www.electronics-notes.com/articles/ham_radio/morse_code/characters-table-chart.php\n",
    "\n",
    "Usando solamente un ciclo for/while; if-else y demás no tienen limitantes.\n",
    "\n",
    "Para las pruebas de traducción exitosa se puede ocupar este ejemplo:\n",
    "\n",
    "Creo que aquello en lo que nos convertimos depende de lo que nuestros padres nos enseñan en pequeños momentos, \n",
    "cuando no están intentando enseñarnos. Estamos hechos de pequeños fragmentos de sabiduría.\n",
    "\n",
    "Y el siguiente sitio:\n",
    "\n",
    "https://morsecode.scphillips.com/translator.html?utm_source=hootsuite\n",
    "\n",
    "NOTA: puede deshacerse de los signos de puntuación pero no de las letras acentuadas, por otro lado las mayúsculas \n",
    "y minúsculas se comportan igual (upper(), lower()).\n",
    "En este caso puede convertir las letras \"á\" ó \"à\" o \"â\" por \"a\" y la \"ñ\" por \"n\".\n",
    "\"\"\""
   ]
  },
  {
   "cell_type": "code",
   "execution_count": 31,
   "metadata": {},
   "outputs": [],
   "source": [
    "import unidecode"
   ]
  },
  {
   "cell_type": "code",
   "execution_count": 32,
   "metadata": {},
   "outputs": [],
   "source": [
    "Text = u'Creo que aquello en lo que nos convertimos depende de lo que nuestros padres nos enseñan en pequeños momentos, cuando no están intentando enseñarnos. Estamos hechos de pequeños fragmentos de sabiduría.'"
   ]
  },
  {
   "cell_type": "markdown",
   "metadata": {},
   "source": [
    "Primero cargamos el archivo que contiene los códigos Morse para cada letra que se obtuvo de https://www.electronics-notes.com/articles/ham_radio/morse_code/characters-table-chart.php .\n",
    "Se hicieron modificaciones a la información:\n",
    "    + Se eliminaron los espacios de cada clave morse.\n",
    "    + Se agregó un código para los espacios vacios ' ' y se traduce como '/'\n",
    "    + Unicamente se consideran letras\n",
    "    + Se guarda como .csv"
   ]
  },
  {
   "cell_type": "code",
   "execution_count": 33,
   "metadata": {},
   "outputs": [],
   "source": [
    "\"\"\"\n",
    "En este paso se carga el archivo .csv, al cargarse se separa respecto a las ','. \n",
    "Al pasarlo a diccionario se omite el último valor de la clave morse ya que se incluye el alimento de línea en \n",
    "el origen '\\n'\n",
    "\"\"\"\n",
    "\n",
    "F = open('Morse_dict.csv','r')\n",
    "Morse_list = (row.split(',') for row in F)\n",
    "Morse_dict = {row[0]:row[1][:-1] for row in Morse_list}"
   ]
  },
  {
   "cell_type": "code",
   "execution_count": 34,
   "metadata": {},
   "outputs": [
    {
     "data": {
      "text/plain": [
       "'Creo que aquello en lo que nos convertimos depende de lo que nuestros padres nos ensenan en pequenos momentos, cuando no estan intentando ensenarnos. Estamos hechos de pequenos fragmentos de sabiduria.'"
      ]
     },
     "execution_count": 34,
     "metadata": {},
     "output_type": "execute_result"
    }
   ],
   "source": [
    "\"\"\"\n",
    "Cuando convertimos a UNICODE podemos evitar los acentos y letras especiales como la ñ y transformar todo a la letra\n",
    "mas cercana\n",
    "\"\"\"\n",
    "\n",
    "Unaccented_Text = unidecode.unidecode(Text)\n",
    "Unaccented_Text"
   ]
  },
  {
   "cell_type": "code",
   "execution_count": 35,
   "metadata": {},
   "outputs": [
    {
     "name": "stdout",
     "output_type": "stream",
     "text": [
      "['-.-.', '.-.', '.', '---', '/', '--.-', '..-', '.', '/', '.-', '--.-', '..-', '.', '.-..', '.-..', '---', '/', '.', '-.', '/', '.-..', '---', '/', '--.-', '..-', '.', '/', '-.', '---', '...', '/', '-.-.', '---', '-.', '...-', '.', '.-.', '-', '..', '--', '---', '...', '/', '-..', '.', '.--.', '.', '-.', '-..', '.', '/', '-..', '.', '/', '.-..', '---', '/', '--.-', '..-', '.', '/', '-.', '..-', '.', '...', '-', '.-.', '---', '...', '/', '.--.', '.-', '-..', '.-.', '.', '...', '/', '-.', '---', '...', '/', '.', '-.', '...', '.', '-.', '.-', '-.', '/', '.', '-.', '/', '.--.', '.', '--.-', '..-', '.', '-.', '---', '...', '/', '--', '---', '--', '.', '-.', '-', '---', '...', '/', '-.-.', '..-', '.-', '-.', '-..', '---', '/', '-.', '---', '/', '.', '...', '-', '.-', '-.', '/', '..', '-.', '-', '.', '-.', '-', '.-', '-.', '-..', '---', '/', '.', '-.', '...', '.', '-.', '.-', '.-.', '-.', '---', '...', '/', '.', '...', '-', '.-', '--', '---', '...', '/', '....', '.', '-.-.', '....', '---', '...', '/', '-..', '.', '/', '.--.', '.', '--.-', '..-', '.', '-.', '---', '...', '/', '..-.', '.-.', '.-', '--.', '--', '.', '-.', '-', '---', '...', '/', '-..', '.', '/', '...', '.-', '-...', '..', '-..', '..-', '.-.', '..', '.-']\n"
     ]
    }
   ],
   "source": [
    "\"\"\"\n",
    "Generamos una lista con las respuestas, se respetan los espacios\n",
    "\"\"\"\n",
    "Morse_Text = [Morse_dict[i.upper()] for i in Unaccented_Text if (i.isalpha() or i==' ')  ]\n",
    "print(Morse_Text)"
   ]
  },
  {
   "cell_type": "markdown",
   "metadata": {},
   "source": [
    "La respuesta de la página (quitando puntuación y acentos, tomando la salida de Unaccented_Text) es: '-.-. .-. . --- / --.- ..- . / .- --.- ..- . .-.. .-.. --- / . -. / .-.. --- / --.- ..- . / -. --- ... / -.-. --- -. ...- . .-. - .. -- --- ... / -.. . .--. . -. -.. . / -.. . / .-.. --- / --.- ..- . / -. ..- . ... - .-. --- ... / .--. .- -.. .-. . ... / -. --- ... / . -. ... . -. .- -. / . -. / .--. . --.- ..- . -. --- ... / -- --- -- . -. - --- ... / -.-. ..- .- -. -.. --- / -. --- / . ... - .- -. / .. -. - . -. - .- -. -.. --- / . -. ... . -. .- .-. -. --- ... / . ... - .- -- --- ... / .... . -.-. .... --- ... / -.. . / .--. . --.- ..- . -. --- ... / ..-. .-. .- --. -- . -. - --- ... / -.. . / ... .- -... .. -.. ..- .-. .. .-'\n",
    "\n",
    "Fuente:\n",
    "\n",
    "https://morsecode.scphillips.com/translator.html?utm_source=hootsuite"
   ]
  },
  {
   "cell_type": "code",
   "execution_count": 36,
   "metadata": {},
   "outputs": [
    {
     "name": "stdout",
     "output_type": "stream",
     "text": [
      "['-.-.', '.-.', '.', '---', '/', '--.-', '..-', '.', '/', '.-', '--.-', '..-', '.', '.-..', '.-..', '---', '/', '.', '-.', '/', '.-..', '---', '/', '--.-', '..-', '.', '/', '-.', '---', '...', '/', '-.-.', '---', '-.', '...-', '.', '.-.', '-', '..', '--', '---', '...', '/', '-..', '.', '.--.', '.', '-.', '-..', '.', '/', '-..', '.', '/', '.-..', '---', '/', '--.-', '..-', '.', '/', '-.', '..-', '.', '...', '-', '.-.', '---', '...', '/', '.--.', '.-', '-..', '.-.', '.', '...', '/', '-.', '---', '...', '/', '.', '-.', '...', '.', '-.', '.-', '-.', '/', '.', '-.', '/', '.--.', '.', '--.-', '..-', '.', '-.', '---', '...', '/', '--', '---', '--', '.', '-.', '-', '---', '...', '/', '-.-.', '..-', '.-', '-.', '-..', '---', '/', '-.', '---', '/', '.', '...', '-', '.-', '-.', '/', '..', '-.', '-', '.', '-.', '-', '.-', '-.', '-..', '---', '/', '.', '-.', '...', '.', '-.', '.-', '.-.', '-.', '---', '...', '/', '.', '...', '-', '.-', '--', '---', '...', '/', '....', '.', '-.-.', '....', '---', '...', '/', '-..', '.', '/', '.--.', '.', '--.-', '..-', '.', '-.', '---', '...', '/', '..-.', '.-.', '.-', '--.', '--', '.', '-.', '-', '---', '...', '/', '-..', '.', '/', '...', '.-', '-...', '..', '-..', '..-', '.-.', '..', '.-']\n"
     ]
    }
   ],
   "source": [
    "\"\"\"\n",
    "Se obtiene el string y se separa por espacios para poder comparar las listas\n",
    "\"\"\"\n",
    "\n",
    "Ans = '-.-. .-. . --- / --.- ..- . / .- --.- ..- . .-.. .-.. --- / . -. / .-.. --- / --.- ..- . / -. --- ... / -.-. --- -. ...- . .-. - .. -- --- ... / -.. . .--. . -. -.. . / -.. . / .-.. --- / --.- ..- . / -. ..- . ... - .-. --- ... / .--. .- -.. .-. . ... / -. --- ... / . -. ... . -. .- -. / . -. / .--. . --.- ..- . -. --- ... / -- --- -- . -. - --- ... / -.-. ..- .- -. -.. --- / -. --- / . ... - .- -. / .. -. - . -. - .- -. -.. --- / . -. ... . -. .- .-. -. --- ... / . ... - .- -- --- ... / .... . -.-. .... --- ... / -.. . / .--. . --.- ..- . -. --- ... / ..-. .-. .- --. -- . -. - --- ... / -.. . / ... .- -... .. -.. ..- .-. .. .-'.split()\n",
    "print(Ans)"
   ]
  },
  {
   "cell_type": "code",
   "execution_count": 37,
   "metadata": {},
   "outputs": [],
   "source": [
    "\"\"\"\n",
    "Validación: Comparamos cada una de las salidas contra las obtenidas en la traducción.\n",
    "\"\"\"\n",
    "\n",
    "err=0\n",
    "for i in range(len(Morse_Text)):\n",
    "    if Morse_Text[i]!=Ans[i]:\n",
    "        err+=1\n",
    "        "
   ]
  },
  {
   "cell_type": "code",
   "execution_count": 38,
   "metadata": {},
   "outputs": [
    {
     "name": "stdout",
     "output_type": "stream",
     "text": [
      "0\n"
     ]
    }
   ],
   "source": [
    "print(err)"
   ]
  },
  {
   "cell_type": "code",
   "execution_count": 39,
   "metadata": {},
   "outputs": [
    {
     "data": {
      "text/plain": [
       "'\\nPara repasar el uso de funciones recursivas, implemente la función de Ackerman. Muestre en pantalla el resultado de :\\n\\nackerman(3,4)\\n\\nNOTA: puede crear una función (precisamente llamada ackerman) para una mejor presentación del código.\\n'"
      ]
     },
     "execution_count": 39,
     "metadata": {},
     "output_type": "execute_result"
    }
   ],
   "source": [
    "#Ejercicio 12\n",
    "\n",
    "\"\"\"\n",
    "Para repasar el uso de funciones recursivas, implemente la función de Ackerman. Muestre en pantalla el resultado de :\n",
    "\n",
    "ackerman(3,4)\n",
    "\n",
    "NOTA: puede crear una función (precisamente llamada ackerman) para una mejor presentación del código.\n",
    "\"\"\"\n"
   ]
  },
  {
   "cell_type": "markdown",
   "metadata": {},
   "source": [
    "La definición de la función de Ackerman en términos simples es:\n",
    "    Para dos valores m,n:\n",
    "        * m+1, si m=0\n",
    "        * A(m-1,1), si m>0 y n=0\n",
    "        * A(m-1,A(m,n-1)), si m>0 y n>0"
   ]
  },
  {
   "cell_type": "code",
   "execution_count": 40,
   "metadata": {},
   "outputs": [],
   "source": [
    "def Ackerman(m,n):\n",
    "    \"\"\"\n",
    "    La función toma dos valores tipo Int m,n y regresa el resultado de aplicar\n",
    "    la función de Ackerman.\n",
    "    \"\"\"\n",
    "    \n",
    "    #Caso Base:\n",
    "    #Cuando m ==0 regresa el valor de n+1\n",
    "    if m==0:\n",
    "        return n+1\n",
    "    #Caso Recursivo1\n",
    "    elif (m>0 and n==0):\n",
    "        return Ackerman(m-1,1)\n",
    "    #Caso Recursivo2\n",
    "    elif (m>0 and n>0):\n",
    "        return Ackerman(m-1,Ackerman(m,n-1))"
   ]
  },
  {
   "cell_type": "code",
   "execution_count": 41,
   "metadata": {},
   "outputs": [
    {
     "data": {
      "text/plain": [
       "125"
      ]
     },
     "execution_count": 41,
     "metadata": {},
     "output_type": "execute_result"
    }
   ],
   "source": [
    "Ackerman(3,4)"
   ]
  },
  {
   "cell_type": "markdown",
   "metadata": {},
   "source": [
    "\n",
    "Para validar el resultado se calcula en:\n",
    "http://www.wolframalpha.com/widgets/view.jsp?id=fecbfa88f364df34c32702b62f11a7d9 \n"
   ]
  },
  {
   "cell_type": "code",
   "execution_count": 42,
   "metadata": {},
   "outputs": [
    {
     "data": {
      "text/plain": [
       "'\\nInvestigue e implemente la criba de Eratóstenes; hágase valer de todas las funcionalidades vistas \\nhasta ahora (if-else, while, for, diccionarios, listas, etc.)\\nNOTA: para este ejercicio debe colocar 2 casillas, una para la explicación del tema EN MARKDOWN \\ny la otra para la implementación del mismo.\\n'"
      ]
     },
     "execution_count": 42,
     "metadata": {},
     "output_type": "execute_result"
    }
   ],
   "source": [
    "#Ejercicio 13. \n",
    "\n",
    "\"\"\"\n",
    "Investigue e implemente la criba de Eratóstenes; hágase valer de todas las funcionalidades vistas \n",
    "hasta ahora (if-else, while, for, diccionarios, listas, etc.)\n",
    "NOTA: para este ejercicio debe colocar 2 casillas, una para la explicación del tema EN MARKDOWN \n",
    "y la otra para la implementación del mismo.\n",
    "\"\"\""
   ]
  },
  {
   "cell_type": "markdown",
   "metadata": {},
   "source": [
    "La Criba de Erastótenes es una forma de obtener los números primos de una lista de números desde 2 hasta el número seleccionado. Para lograr esto se utiliza un algoritmo como se describe:\n",
    "    * Se crea una lista de valores posibles desde 2 hasta el valor deseado n.\n",
    "    * Se comienza con el 2, se agrega a la lista resultado y se elmininan sus múltiplos hasta el valor n de la lista de valores posibles.\n",
    "    * Se recorre al siguiente valor de la lista de valores posibles y se eliminan nuevamente sus múltiplos.\n",
    "    * Se continúa hasta que se obtienen todos los números primos en el rango deseado."
   ]
  },
  {
   "cell_type": "code",
   "execution_count": 43,
   "metadata": {},
   "outputs": [],
   "source": [
    "def Eratostenes(n):\n",
    "    \"\"\"\n",
    "    La función regresa una lista de Ints de números primos calculados desde [2:n]\n",
    "    Recibe el valor n que será el límite (incluido).\n",
    "    \"\"\" \n",
    "    #Se genera una lista de valores desde 2 hasta n+1\n",
    "    #para incluir el número límite como primo en caso de que lo sea\n",
    "    \n",
    "    Possible_Values = list(range(2,n+1))\n",
    "    \n",
    "    def PossibleValuesCalc(PossibleValues):\n",
    "        \n",
    "        \"\"\"\n",
    "        La función recibe una lista PossibleValues de valores Int.\n",
    "        Regresa los números primos dentro de PossibleValues utilizando una varainte recursiva del\n",
    "        algoritmo basado en Criba de Erastótenes\n",
    "        \"\"\"\n",
    "        \n",
    "        #Caso Base:\n",
    "        #Se cumple cuando la lista de posibles valores tenga un solo elemento \n",
    "        if len(PossibleValues)==1:\n",
    "            return PossibleValues\n",
    "        \n",
    "        #Caso Recursivo:\n",
    "        #Cuando la lista PossibleValues tiene mas de 1 elemento se toma el primer elemento de la lista y \n",
    "        #se concatena la lista PossibleValues evaluada en la función PossibleValuesCalc filtrando aquellos que \n",
    "        #son múltiplos del primer elemento hasta que se cumpla el caso base\n",
    "        \n",
    "        else:\n",
    "            return [PossibleValues[0]]+ \\\n",
    "        PossibleValuesCalc([x for x in PossibleValues[1:] if x%(PossibleValues[0])!=0])\n",
    "        \n",
    "    return PossibleValuesCalc(Possible_Values)"
   ]
  },
  {
   "cell_type": "code",
   "execution_count": 44,
   "metadata": {},
   "outputs": [
    {
     "name": "stdout",
     "output_type": "stream",
     "text": [
      "[2, 3, 5, 7, 11, 13, 17, 19, 23, 29, 31, 37, 41, 43, 47, 53, 59, 61, 67, 71, 73, 79, 83, 89, 97, 101, 103]\n"
     ]
    }
   ],
   "source": [
    "PrimeNumbers = Eratostenes(106)\n",
    "print(PrimeNumbers)"
   ]
  },
  {
   "cell_type": "markdown",
   "metadata": {},
   "source": [
    "Se puede validar con la tabla de la página:\n",
    "https://www.mathsisfun.com/numbers/prime-numbers-to-10k.html "
   ]
  },
  {
   "cell_type": "markdown",
   "metadata": {},
   "source": [
    "# <center> ¡Mucho éxito! </center> "
   ]
  }
 ],
 "metadata": {
  "kernelspec": {
   "display_name": "Python 2",
   "language": "python",
   "name": "python2"
  },
  "language_info": {
   "codemirror_mode": {
    "name": "ipython",
    "version": 2
   },
   "file_extension": ".py",
   "mimetype": "text/x-python",
   "name": "python",
   "nbconvert_exporter": "python",
   "pygments_lexer": "ipython2",
   "version": "2.7.14"
  }
 },
 "nbformat": 4,
 "nbformat_minor": 2
}
