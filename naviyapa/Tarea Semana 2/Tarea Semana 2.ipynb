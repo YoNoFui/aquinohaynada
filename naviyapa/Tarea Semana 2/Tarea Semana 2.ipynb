{
 "cells": [
  {
   "cell_type": "markdown",
   "metadata": {},
   "source": [
    "# <center> ¡Tarea Semana 2! </center>"
   ]
  },
  {
   "cell_type": "markdown",
   "metadata": {},
   "source": [
    "## <center> Ejercicio 1 </center> "
   ]
  },
  {
   "cell_type": "code",
   "execution_count": 39,
   "metadata": {},
   "outputs": [
    {
     "name": "stdout",
     "output_type": "stream",
     "text": [
      "1 2 3 4 5\n",
      "6 7 8 9 10\n",
      "11 12 13 14 15\n",
      "16 17 18 19 20\n"
     ]
    }
   ],
   "source": [
    "matriz = [[1,2,3,4,5],[6,7,8,9,10],[11,12,13,14,15],[16,17,18,19,20]];\n",
    "for elemento in matriz:\n",
    "        print(\"{0} {1} {2} {3} {4}\".format(elemento[0],elemento[1],elemento[2],elemento[3],elemento[4]))\n"
   ]
  },
  {
   "cell_type": "markdown",
   "metadata": {},
   "source": [
    "## <center> Ejercicio 2 </center> "
   ]
  },
  {
   "cell_type": "markdown",
   "metadata": {},
   "source": [
    "<DIV align =\"right\">\n",
    "En programación la evaluación perezosa, o llamada por necesidad, o por su nombre en inglés: lazy evaluation. Es una técnica de evaluación, que consiste en retrasar el cálculo (o ejecución) de una instrucción hasta que en realidad es necesaria.\n",
    "<BR><BR><B>FUENTE: https://thatcsharpguy.com/tv/lazy-evaluation/</B><BR><BR>\n",
    "\n",
    "Python si aplica esta característica, por ejemplo, al utilizar una función range, en donde se van generando los elementos de la secuencia conforme se van necesitando. Esto es con el fin de evitar que todos los elementos de la secuencia estén simultáneamente en memoria.\n",
    "<BR><BR><B>FUENTE: http://webcem01.cem.itesm.mx:8005/publicaciones/primer_lenguaje_30_jun_2010.pdf</B><BR><BR>\n",
    "</DIV>"
   ]
  },
  {
   "cell_type": "markdown",
   "metadata": {},
   "source": [
    "## <center> Ejercicio 3 </center> "
   ]
  },
  {
   "cell_type": "code",
   "execution_count": 32,
   "metadata": {},
   "outputs": [
    {
     "name": "stdout",
     "output_type": "stream",
     "text": [
      "EnAlgunLugarDeLaManchaDeCuyoNombreNoQuieroAcordarmeOHaMuchoTiempoQueViviaUnHidalgoDeLosDeLanzaEnAstilleroAdargaAntiguaRocinFlacoYGalgoCorredor.\n"
     ]
    }
   ],
   "source": [
    "cadena1 = \"En algun lugar de La Mancha de cuyo nombre no quiero acordarme, o ha mucho tiempo que vivia un hidalgo de los de lanza en astillero, adarga antigua, rocin flaco y galgo corredor.\"\n",
    "cadena2 = \"\";\n",
    "\n",
    "for iContador in range (len(cadena1)):\n",
    "    if cadena1[iContador] == \" \":\n",
    "        pass;\n",
    "    else:\n",
    "        if (cadena1[iContador-1] == \" \"):\n",
    "             cadena2 = cadena2 + cadena1[iContador].upper();\n",
    "        else:\n",
    "            cadena2 = cadena2 + cadena1[iContador];\n",
    "print(cadena2.replace(\",\",\"\"));"
   ]
  },
  {
   "cell_type": "markdown",
   "metadata": {},
   "source": [
    "## <center> Ejercicio 4 </center> "
   ]
  },
  {
   "cell_type": "code",
   "execution_count": 83,
   "metadata": {},
   "outputs": [
    {
     "name": "stdout",
     "output_type": "stream",
     "text": [
      "La raíz digital de '493193' es de: 2\n",
      "La raíz digital de '942' es de: 6\n",
      "La raíz digital de '16' es de: 7\n"
     ]
    }
   ],
   "source": [
    "def fRaizDigital(iCifra):\n",
    "    liNumero = list(str(iCifra));\n",
    "    while (len(liNumero)>1):\n",
    "        iSuma = 0;\n",
    "        for x in liNumero:\n",
    "            iSuma = iSuma + int(x);\n",
    "        liNumero = list(str(iSuma));\n",
    "    return iSuma;\n",
    "\n",
    "\n",
    "iNumero1 = 493193\n",
    "iNumero2 = 942\n",
    "iNumero3 = 16\n",
    "print(\"La raíz digital de '493193' es de: {0}\\nLa raíz digital de '942' es de: {1}\\nLa raíz digital de '16' es de: {2}\".format(fRaizDigital(iNumero1),fRaizDigital(iNumero2),fRaizDigital(iNumero3)));"
   ]
  },
  {
   "cell_type": "markdown",
   "metadata": {},
   "source": [
    "## <center> Ejercicio 5 </center> "
   ]
  },
  {
   "cell_type": "markdown",
   "metadata": {},
   "source": [
    "<DIV>\n",
    "<font color='blue'>\n",
    "* <b>Por valor </b> significa que la función (o subrutina) recibe sólo una copia del valor que tiene la variable, o sea que no la puede modificar.<br> \n",
    "* <b>Por referencia </b> significa que se pasa la posición de memoria donde esta guardada la variable, por lo que la función puede saber cuánto vale, pero además puede modificarla de cualquier manera.\n",
    "<BR><BR><B>FUENTE: http://www.oma.org.ar/omanet/cym98/valorref.htm</B><BR><BR>\n",
    "Python siempre pasa los valores por referencia, nunca por valor.\n",
    "</font>\n",
    "</DIV>"
   ]
  },
  {
   "cell_type": "markdown",
   "metadata": {},
   "source": [
    "### <center> Ejercicio 6</center>"
   ]
  },
  {
   "cell_type": "markdown",
   "metadata": {},
   "source": [
    "<font color='black'>\n",
    "La <b>herencia</b> es un mecanismo de la programación orientada a objetos que sirve para crear clases nuevas a partir de clases preexistentes. Se toman (heredan) atributos y comportamientos de las clases viejas y se los modifica para modelar una nueva situación.\n",
    "La clase vieja se llama clase base y la que se construye a partir de ella es una clase derivada.<BR><B>FUENTE: http://librosweb.es/libro/algoritmos_python/capitulo_15/herencia.html</B><BR>\n",
    "<B>Tipos de Herencia: </B><BR>\n",
    "</font>\n",
    "    1. Herencia Simple: Una clase sólo puede heredar de una superclase.\n",
    "    2. Herencia Múltiple: Una clase puede heredar comportamientos y características de más de una superclase.\n",
    "\n",
    "<B>FUENTE: https://poolhjc.wordpress.com/herencia/</B><BR><BR>"
   ]
  },
  {
   "cell_type": "markdown",
   "metadata": {},
   "source": [
    "## <center> Ejercicio 7 </center> "
   ]
  },
  {
   "cell_type": "code",
   "execution_count": 86,
   "metadata": {},
   "outputs": [
    {
     "name": "stdout",
     "output_type": "stream",
     "text": [
      "['H', 'C', 'M', 'M', 'C', 'H', 'C', 'M', 'M', 'M', 'C', 'H', 'C', 'M', 'C', 'H', 'H', 'C', 'M', 'C', 'H', 'C', 'M', 'C', 'H', 'C', 'M', 'C', 'H', 'C', 'M', 'M', 'C', 'H', 'C', 'M', 'C', 'H', 'C', 'M', 'M', 'C', 'H', 'C', 'M', 'C', 'H', 'C', 'M', 'C', 'H', 'H', 'C', 'M', 'M', 'C', 'H', 'C', 'M', 'C', 'H', 'C', 'M', 'M', 'C', 'H', 'C', 'M', 'C', 'H', 'C', 'M', 'C', 'H', 'C', 'M', 'C', 'H', 'C', 'M', 'C', 'H', 'C', 'M']\n"
     ]
    }
   ],
   "source": [
    "sLista = \"H,M,M,H,M,M,M,H,M,H,H,M,H,M,H,M,H,M,M,H,M,H,M,M,H,M,H,M,H,H,M,M,H,M,H,M,M,H,M,H,M,H,M,H,M,H,M\"\n",
    "lLista = sLista.split(\",\");\n",
    "ListaNueva = [];\n",
    "\n",
    "iContador = 0;\n",
    "for iContador in range(len(lLista)-1):\n",
    "    if ((lLista[iContador] == \"H\" and lLista[iContador+1] == \"M\") or (lLista[iContador] == \"M\" and lLista[iContador+1] == \"H\")):\n",
    "        ListaNueva.append(lLista[iContador]);\n",
    "        ListaNueva.append(\"C\");\n",
    "    else:\n",
    "         ListaNueva.append(lLista[iContador]);\n",
    "ListaNueva.append(lLista[iContador+1])\n",
    "print(ListaNueva);"
   ]
  },
  {
   "cell_type": "markdown",
   "metadata": {},
   "source": [
    "### <center> Ejercicio 8</center>"
   ]
  },
  {
   "cell_type": "markdown",
   "metadata": {},
   "source": [
    "<font color='brown'>\n",
    "El <b>paradigma de lenguaje de programación </b> es un conjunto de creencias, prácticas y conocimientos que guían el desarrollo de una disciplina durante un período de tiempo. Expresado de otra forma, es un estilo de desarrollo de programas.<BR>\n",
    "\n",
    "<BR><B>Tipos de paradigmas de programación: </B><BR><BR>\n",
    "    <B>1. Imperativo:<BR></B>\n",
    "        Los programas se componen de un conjunto de sentencias que cambian su estado. Son secuencias de comandos que ordenan\n",
    "        acciones a la computadora.<BR><BR>\n",
    "    \n",
    "    <B>2. Declarativo:<BR></B>\n",
    "        Opuesto al imperativo. Los programas describen los resultados esperados sin listar explícitamente los pasos a llevara\n",
    "        cabo para alcanzarlos.<BR><BR>\n",
    "    \n",
    "    <B>3. Lógico:<BR></B>\n",
    "        El problema se modela con enunciados de lógica de primer orden.<BR><BR>\n",
    "    \n",
    "    <B>4. Funcional:<BR></B>\n",
    "        Los programas se componen de funciones, es decir, implementaciones de comportamiento que reciben un conjunto de datos\n",
    "        de entrada y devuelven un valor de salida.<BR><BR>\n",
    "    \n",
    "    <B>5. Orientado a objetos:<BR></B>\n",
    "        El comportamiento del programa es llevado a cabo por objetos, entidades que representan elementos del problema\n",
    "        a resolver y tienen atributos y comportamiento.<BR><BR>\n",
    "\n",
    "    Otros son de aparición relativamente reciente y no forman parte del grupo principal:<BR><BR>\n",
    "\n",
    "    <B>6.Dirigido por eventos:<BR></B>\n",
    "        El flujo del programa está determinado por sucesos externos (por ejemplo, una acción del usuario).<BR><BR>\n",
    "    \n",
    "    <B>7.Orientado a aspectos:<BR></B>\n",
    "        Apunta a dividir el programa en módulos independientes, cada uno con un comportamiento bien definido.<BR>\n",
    "<B>FUENTE: http://www.4rsoluciones.com/blog/que-son-los-paradigmas-de-programacion-2/</B><BR><BR>\n",
    "\n",
    "Python es un lenguaje de programación multiparadigma. Esto significa que más que forzar a los programadores a adoptar un estilo particular de programación, permite varios estilos: programación orientada a objetos, programación imperativa y programación funcional. Otros paradigmas están soportados mediante el uso de extensiones.<BR>\n",
    "<B>FUENTE: https://github.com/felipebarraza6/Python/wiki/Python:-Características-y-paradigmas</B><BR>\n",
    "</font>"
   ]
  },
  {
   "cell_type": "markdown",
   "metadata": {
    "collapsed": true
   },
   "source": [
    "### <center> Ejercicio 9</center>"
   ]
  },
  {
   "cell_type": "code",
   "execution_count": 91,
   "metadata": {},
   "outputs": [
    {
     "data": {
      "text/html": [
       "<div>\n",
       "<style scoped>\n",
       "    .dataframe tbody tr th:only-of-type {\n",
       "        vertical-align: middle;\n",
       "    }\n",
       "\n",
       "    .dataframe tbody tr th {\n",
       "        vertical-align: top;\n",
       "    }\n",
       "\n",
       "    .dataframe thead th {\n",
       "        text-align: right;\n",
       "    }\n",
       "</style>\n",
       "<table border=\"1\" class=\"dataframe\">\n",
       "  <thead>\n",
       "    <tr style=\"text-align: right;\">\n",
       "      <th></th>\n",
       "      <th>Year</th>\n",
       "      <th>Month</th>\n",
       "      <th>DayofMonth</th>\n",
       "      <th>DayOfWeek</th>\n",
       "      <th>DepTime</th>\n",
       "      <th>CRSDepTime</th>\n",
       "      <th>ArrTime</th>\n",
       "      <th>CRSArrTime</th>\n",
       "      <th>UniqueCarrier</th>\n",
       "      <th>FlightNum</th>\n",
       "      <th>...</th>\n",
       "      <th>TaxiIn</th>\n",
       "      <th>TaxiOut</th>\n",
       "      <th>Cancelled</th>\n",
       "      <th>CancellationCode</th>\n",
       "      <th>Diverted</th>\n",
       "      <th>CarrierDelay</th>\n",
       "      <th>WeatherDelay</th>\n",
       "      <th>NASDelay</th>\n",
       "      <th>SecurityDelay</th>\n",
       "      <th>LateAircraftDelay</th>\n",
       "    </tr>\n",
       "  </thead>\n",
       "  <tbody>\n",
       "    <tr>\n",
       "      <th>1</th>\n",
       "      <td>1987</td>\n",
       "      <td>10</td>\n",
       "      <td>15</td>\n",
       "      <td>4</td>\n",
       "      <td>729</td>\n",
       "      <td>730</td>\n",
       "      <td>903</td>\n",
       "      <td>849</td>\n",
       "      <td>PS</td>\n",
       "      <td>1451</td>\n",
       "      <td>...</td>\n",
       "      <td>NaN</td>\n",
       "      <td>NaN</td>\n",
       "      <td>0</td>\n",
       "      <td>NaN</td>\n",
       "      <td>0</td>\n",
       "      <td>NaN</td>\n",
       "      <td>NaN</td>\n",
       "      <td>NaN</td>\n",
       "      <td>NaN</td>\n",
       "      <td>NaN</td>\n",
       "    </tr>\n",
       "    <tr>\n",
       "      <th>2</th>\n",
       "      <td>1987</td>\n",
       "      <td>10</td>\n",
       "      <td>17</td>\n",
       "      <td>6</td>\n",
       "      <td>741</td>\n",
       "      <td>730</td>\n",
       "      <td>918</td>\n",
       "      <td>849</td>\n",
       "      <td>PS</td>\n",
       "      <td>1451</td>\n",
       "      <td>...</td>\n",
       "      <td>NaN</td>\n",
       "      <td>NaN</td>\n",
       "      <td>0</td>\n",
       "      <td>NaN</td>\n",
       "      <td>0</td>\n",
       "      <td>NaN</td>\n",
       "      <td>NaN</td>\n",
       "      <td>NaN</td>\n",
       "      <td>NaN</td>\n",
       "      <td>NaN</td>\n",
       "    </tr>\n",
       "    <tr>\n",
       "      <th>3</th>\n",
       "      <td>1987</td>\n",
       "      <td>10</td>\n",
       "      <td>18</td>\n",
       "      <td>7</td>\n",
       "      <td>729</td>\n",
       "      <td>730</td>\n",
       "      <td>847</td>\n",
       "      <td>849</td>\n",
       "      <td>PS</td>\n",
       "      <td>1451</td>\n",
       "      <td>...</td>\n",
       "      <td>NaN</td>\n",
       "      <td>NaN</td>\n",
       "      <td>0</td>\n",
       "      <td>NaN</td>\n",
       "      <td>0</td>\n",
       "      <td>NaN</td>\n",
       "      <td>NaN</td>\n",
       "      <td>NaN</td>\n",
       "      <td>NaN</td>\n",
       "      <td>NaN</td>\n",
       "    </tr>\n",
       "    <tr>\n",
       "      <th>4</th>\n",
       "      <td>1987</td>\n",
       "      <td>10</td>\n",
       "      <td>19</td>\n",
       "      <td>1</td>\n",
       "      <td>749</td>\n",
       "      <td>730</td>\n",
       "      <td>922</td>\n",
       "      <td>849</td>\n",
       "      <td>PS</td>\n",
       "      <td>1451</td>\n",
       "      <td>...</td>\n",
       "      <td>NaN</td>\n",
       "      <td>NaN</td>\n",
       "      <td>0</td>\n",
       "      <td>NaN</td>\n",
       "      <td>0</td>\n",
       "      <td>NaN</td>\n",
       "      <td>NaN</td>\n",
       "      <td>NaN</td>\n",
       "      <td>NaN</td>\n",
       "      <td>NaN</td>\n",
       "    </tr>\n",
       "    <tr>\n",
       "      <th>5</th>\n",
       "      <td>1987</td>\n",
       "      <td>10</td>\n",
       "      <td>21</td>\n",
       "      <td>3</td>\n",
       "      <td>728</td>\n",
       "      <td>730</td>\n",
       "      <td>848</td>\n",
       "      <td>849</td>\n",
       "      <td>PS</td>\n",
       "      <td>1451</td>\n",
       "      <td>...</td>\n",
       "      <td>NaN</td>\n",
       "      <td>NaN</td>\n",
       "      <td>0</td>\n",
       "      <td>NaN</td>\n",
       "      <td>0</td>\n",
       "      <td>NaN</td>\n",
       "      <td>NaN</td>\n",
       "      <td>NaN</td>\n",
       "      <td>NaN</td>\n",
       "      <td>NaN</td>\n",
       "    </tr>\n",
       "  </tbody>\n",
       "</table>\n",
       "<p>5 rows × 29 columns</p>\n",
       "</div>"
      ],
      "text/plain": [
       "   Year  Month  DayofMonth  DayOfWeek  DepTime  CRSDepTime  ArrTime  \\\n",
       "1  1987     10          15          4      729         730      903   \n",
       "2  1987     10          17          6      741         730      918   \n",
       "3  1987     10          18          7      729         730      847   \n",
       "4  1987     10          19          1      749         730      922   \n",
       "5  1987     10          21          3      728         730      848   \n",
       "\n",
       "   CRSArrTime UniqueCarrier  FlightNum        ...         TaxiIn  TaxiOut  \\\n",
       "1         849            PS       1451        ...            NaN      NaN   \n",
       "2         849            PS       1451        ...            NaN      NaN   \n",
       "3         849            PS       1451        ...            NaN      NaN   \n",
       "4         849            PS       1451        ...            NaN      NaN   \n",
       "5         849            PS       1451        ...            NaN      NaN   \n",
       "\n",
       "   Cancelled  CancellationCode  Diverted  CarrierDelay WeatherDelay NASDelay  \\\n",
       "1          0               NaN         0           NaN          NaN      NaN   \n",
       "2          0               NaN         0           NaN          NaN      NaN   \n",
       "3          0               NaN         0           NaN          NaN      NaN   \n",
       "4          0               NaN         0           NaN          NaN      NaN   \n",
       "5          0               NaN         0           NaN          NaN      NaN   \n",
       "\n",
       "   SecurityDelay  LateAircraftDelay  \n",
       "1            NaN                NaN  \n",
       "2            NaN                NaN  \n",
       "3            NaN                NaN  \n",
       "4            NaN                NaN  \n",
       "5            NaN                NaN  \n",
       "\n",
       "[5 rows x 29 columns]"
      ]
     },
     "execution_count": 91,
     "metadata": {},
     "output_type": "execute_result"
    }
   ],
   "source": [
    "import pandas as pd;\n",
    "#PANDAS es la biblioteca con la que puedes operar DF en Python\n",
    "dataframe = pd.read_csv(\"Ejercicio05.txt\");\n",
    "dataframe[1:6]"
   ]
  },
  {
   "cell_type": "markdown",
   "metadata": {
    "collapsed": true
   },
   "source": [
    "### <center> Ejercicio 10</center>"
   ]
  },
  {
   "cell_type": "code",
   "execution_count": 94,
   "metadata": {},
   "outputs": [],
   "source": [
    "import pickle;\n",
    "pickle.dump (dataframe, open(\"naviyapa.pickle\",\"wb\"))\n",
    "\n",
    "#naviyapa_pickle = pickle.load(open(\"naviyapa.pickle\",\"rb\"))\n",
    "#print (naviyapa_pickle)\n"
   ]
  },
  {
   "cell_type": "markdown",
   "metadata": {},
   "source": [
    "## <center> Puntos Extras </center> "
   ]
  },
  {
   "cell_type": "markdown",
   "metadata": {},
   "source": [
    "## <center> Ejercicio 11 </center> "
   ]
  },
  {
   "cell_type": "code",
   "execution_count": 79,
   "metadata": {},
   "outputs": [
    {
     "name": "stdout",
     "output_type": "stream",
     "text": [
      "-.-..-..--- / --.-..-. / .---.-..-..-...-..--- / .-. / .-..--- / --.-..-. / -.---... / -.-.----....-..-.-..-----... / -....--..-.-... / -... / .-..--- / --.-..-. / -...-....-.-.---... / .--..--...-..... / -.---... / .-.....-..--. / .-. / .--..--.-..-.-.---... / -------.-.----... / -.-...-.--.-..--- / -.--- / ....-.--. / ..-.-.-.-.--.-..--- / .-.....-..-.-.-.---... / ....-.------... / .....-.-.....---... / -... / .--..--.-..-.-.---... / ..-..-..---.--.-.----... / -... / ....--.....-....-.-....-\n"
     ]
    }
   ],
   "source": [
    "sCadena1 = \"Creo que aquello en lo que nos convertimos depende de lo que nuestros padres nos enseñan en pequeños momentos, cuando no están intentando enseñarnos. Estamos hechos de pequeños fragmentos de sabiduría.\"\n",
    "\n",
    "Abecedario = {\" \":\" / \",\"a\":\".-\",\"b\":\"-...\",\"c\":\"-.-.\",\"d\":\"-..\",\"e\":\".\",\"f\":\"..-.\",\"g\":\"--.\",\"h\":\"....\",\"i\":\"..\",\"j\":\".---\",\n",
    "                  \"k\":\"-.-\",\"l\":\".-..\",\"m\":\"--\",\"n\":\"-.\",\"o\":\"---\",\"p\":\".--.\",\"q\":\"--.-\",\"r\":\".-.\",\"s\":\"...\",\"t\":\"-\",\"u\":\"..-\",\n",
    "                  \"v\":\"...-\",\"w\":\".--\",\"x\":\"-..-\",\"y\":\"-.--\",\"z\":\"--..\"}\n",
    "\n",
    "sCadena2 = sCadena1.replace(\"á\",\"a\").replace(\"é\",\"e\").replace(\"í\",\"i\").replace(\"ó\",\"o\").replace(\"ú\",\"u\").replace(\"ñ\",\"n\").replace(\",\",\"\").replace(\".\",\"\").lower();\n",
    "\n",
    "sCadenaMorse = \"\";\n",
    "for sLetra in sCadena2:\n",
    "    sCadenaMorse = sCadenaMorse + str(Abecedario.get(sLetra));\n",
    "\n",
    "print(sCadenaMorse)\n",
    "\n"
   ]
  },
  {
   "cell_type": "markdown",
   "metadata": {
    "collapsed": true
   },
   "source": [
    "<font color='red'>La página le agrega algunos espacios vacíos (barra espaciadoras entre caractéres), los omití para hacer la validación:\n",
    "<br>https://morsecode.scphillips.com/translator.html?utm_source=hootsuite\n",
    "</font>"
   ]
  },
  {
   "cell_type": "markdown",
   "metadata": {},
   "source": [
    "## <center> Ejercicio 12 </center> "
   ]
  },
  {
   "cell_type": "code",
   "execution_count": 178,
   "metadata": {},
   "outputs": [
    {
     "name": "stdout",
     "output_type": "stream",
     "text": [
      "125\n"
     ]
    }
   ],
   "source": [
    "def ackermann(iValorM,iValorN):\n",
    "\tif iValorM == 0:\n",
    "\t\treturn (iValorN + 1)\n",
    "\telif iValorN == 0:\n",
    "\t\treturn ackermann(iValorM - 1, 1)\n",
    "\telse:\n",
    "\t\treturn ackermann(iValorM - 1, ackermann(iValorM, iValorN - 1))\n",
    "\n",
    "print(ackermann(3,4))"
   ]
  },
  {
   "cell_type": "markdown",
   "metadata": {
    "collapsed": true
   },
   "source": [
    "# <center> Ejercicio 13 </center> "
   ]
  },
  {
   "cell_type": "markdown",
   "metadata": {
    "collapsed": true
   },
   "source": [
    "<DIV>\n",
    "<font color='green'>\n",
    "<b>La Criba de Eratóstenes </b> es un algoritmo que permite hallar números primos menores que un número natural dado.\n",
    "<BR><BR><B>FUENTE: https://www.vitutor.net/1/61.html</B><BR><BR>\n",
    "</font>\n",
    "</DIV>\n"
   ]
  },
  {
   "cell_type": "code",
   "execution_count": 25,
   "metadata": {},
   "outputs": [
    {
     "name": "stdout",
     "output_type": "stream",
     "text": [
      "2 3 5 7 11 13 17 19 23 29 31 37 41 43 47 53 59 61 67 71 73 79 83 89 97 "
     ]
    }
   ],
   "source": [
    "def fnCribaEratostenes(iLimite):\n",
    "    lista = []\n",
    "    #Generando multiplos\n",
    "    for iContador1 in range (2,iLimite+1):\n",
    "        for iContador2 in range (2,11):\n",
    "            lista.append(iContador1*iContador2);\n",
    "    \n",
    "    #Devuelve valores que no son multiplos\n",
    "    for iContador in range (2,iLimite+1):\n",
    "        if iContador not in lista:\n",
    "            print(iContador, \"\",end=\"\")\n",
    "            \n",
    "fnCribaEratostenes(100)"
   ]
  },
  {
   "cell_type": "markdown",
   "metadata": {},
   "source": [
    "# <center> ¡Mucho éxito! </center> "
   ]
  }
 ],
 "metadata": {
  "kernelspec": {
   "display_name": "Python 3",
   "language": "python",
   "name": "python3"
  },
  "language_info": {
   "codemirror_mode": {
    "name": "ipython",
    "version": 3
   },
   "file_extension": ".py",
   "mimetype": "text/x-python",
   "name": "python",
   "nbconvert_exporter": "python",
   "pygments_lexer": "ipython3",
   "version": "3.6.4"
  }
 },
 "nbformat": 4,
 "nbformat_minor": 2
}
