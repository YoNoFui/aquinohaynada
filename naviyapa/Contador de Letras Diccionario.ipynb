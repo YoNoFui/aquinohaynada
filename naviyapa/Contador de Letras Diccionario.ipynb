{
 "cells": [
  {
   "cell_type": "markdown",
   "metadata": {},
   "source": [
    "# Contador de repeticion de letras de un diccionario"
   ]
  },
  {
   "cell_type": "code",
   "execution_count": 23,
   "metadata": {},
   "outputs": [
    {
     "name": "stdout",
     "output_type": "stream",
     "text": [
      "{'c': 15, 'u': 15, 'a': 13, 'n': 17, 'd': 1, 'o': 11, 'e': 12, 't': 13, 's': 16, 'p': 1, 'r': 3, 'q': 1, 'i': 1, 'b': 2}\n"
     ]
    }
   ],
   "source": [
    "sCadena = \"cuando cuentes cuentos cuenta cuantos cuentos cuentas porque si no cuentas cuantos cuentos cuentas nunca sabras cuantos cuentos sabes contar\"\n",
    "sCadena = sCadena.replace(\" \",\"\");\n",
    "dDiccionario = {}\n",
    " \n",
    "for sLetra in sCadena:\n",
    "    dDiccionario[sLetra] = dDiccionario.get(sLetra , 0) + 1\n",
    "\n",
    "print (dDiccionario)\n"
   ]
  },
  {
   "cell_type": "code",
   "execution_count": null,
   "metadata": {},
   "outputs": [],
   "source": []
  }
 ],
 "metadata": {
  "kernelspec": {
   "display_name": "Python 3",
   "language": "python",
   "name": "python3"
  },
  "language_info": {
   "codemirror_mode": {
    "name": "ipython",
    "version": 3
   },
   "file_extension": ".py",
   "mimetype": "text/x-python",
   "name": "python",
   "nbconvert_exporter": "python",
   "pygments_lexer": "ipython3",
   "version": "3.6.4"
  }
 },
 "nbformat": 4,
 "nbformat_minor": 2
}
