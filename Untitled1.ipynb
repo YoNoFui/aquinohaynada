{
 "cells": [
  {
   "cell_type": "code",
   "execution_count": 5,
   "metadata": {},
   "outputs": [
    {
     "name": "stdout",
     "output_type": "stream",
     "text": [
      "Cadena\n",
      "cuando cuentes cuentos cuenta cuantos cuentos cuentas\n",
      "\n",
      "Frecuencias\n",
      "[1, 1, 2, 1, 1, 2, 1]\n",
      "\n"
     ]
    }
   ],
   "source": [
    "cadenaPalabras = 'cuando cuentes cuentos cuenta cuantos cuentos cuentas'\n",
    "\n",
    "listaPalabras = cadenaPalabras.split()\n",
    "\n",
    "frecuenciaPalab = []\n",
    "for x in listaPalabras:\n",
    "    frecuenciaPalab.append(listaPalabras.count(x))\n",
    "\n",
    "print(\"Cadena\\n\" + cadenaPalabras +\"\\n\")\n",
    "print(\"Frecuencias\\n\" + str(frecuenciaPalab) + \"\\n\")"
   ]
  },
  {
   "cell_type": "code",
   "execution_count": 6,
   "metadata": {},
   "outputs": [
    {
     "name": "stdout",
     "output_type": "stream",
     "text": [
      "Escriba una cadena de caracteres: cuando cuentes cuentos cuenta cuantos cuentos cuentas\n",
      "{'a': 4, ' ': 6, 'c': 7, 'e': 6, 'd': 1, 'o': 4, 'n': 7, 's': 5, 'u': 7, 't': 6}\n"
     ]
    }
   ],
   "source": [
    "cadena = raw_input(\"Escriba una cadena de caracteres: \")\n",
    " \n",
    "d = dict()\n",
    " \n",
    "for caracter in cadena:\n",
    "    if caracter not in d:\n",
    "        d[caracter] = 1\n",
    "    else:\n",
    "        d[caracter] = d[caracter] + 1\n",
    "print d"
   ]
  },
  {
   "cell_type": "code",
   "execution_count": 7,
   "metadata": {},
   "outputs": [
    {
     "name": "stdout",
     "output_type": "stream",
     "text": [
      "Escriba una cadena de caracteres: cuando cuentes cuentos cuenta cuantos cuentos cuentas\n",
      "{'a': 4, ' ': 6, 'c': 7, 'e': 6, 'd': 1, 'o': 4, 'n': 7, 's': 5, 'u': 7, 't': 6}\n"
     ]
    }
   ],
   "source": [
    "cadena = raw_input(\"Escriba una cadena de caracteres: \")\n",
    " \n",
    "d = dict()\n",
    " \n",
    "for caracter in cadena:\n",
    "        d[caracter] = d.get(caracter,0) + 1\n",
    "print d"
   ]
  },
  {
   "cell_type": "code",
   "execution_count": 8,
   "metadata": {},
   "outputs": [
    {
     "ename": "NameError",
     "evalue": "name 'sCadena' is not defined",
     "output_type": "error",
     "traceback": [
      "\u001b[1;31m---------------------------------------------------------------------------\u001b[0m",
      "\u001b[1;31mNameError\u001b[0m                                 Traceback (most recent call last)",
      "\u001b[1;32m<ipython-input-8-fbb931c1d244>\u001b[0m in \u001b[0;36m<module>\u001b[1;34m()\u001b[0m\n\u001b[1;32m----> 1\u001b[1;33m \u001b[0msCadenaDist\u001b[0m \u001b[1;33m=\u001b[0m \u001b[0mlist\u001b[0m\u001b[1;33m(\u001b[0m\u001b[0msCadena\u001b[0m\u001b[1;33m.\u001b[0m\u001b[0mreplace\u001b[0m\u001b[1;33m(\u001b[0m\u001b[1;34m\" \"\u001b[0m\u001b[1;33m,\u001b[0m\u001b[1;34m\"\"\u001b[0m\u001b[1;33m)\u001b[0m\u001b[1;33m)\u001b[0m\u001b[1;33m;\u001b[0m\u001b[1;33m\u001b[0m\u001b[0m\n\u001b[0m\u001b[0;32m      2\u001b[0m \u001b[0msCadenaDist\u001b[0m\u001b[1;33m.\u001b[0m\u001b[0msort\u001b[0m\u001b[1;33m(\u001b[0m\u001b[1;33m)\u001b[0m\u001b[1;33m;\u001b[0m\u001b[1;33m\u001b[0m\u001b[0m\n\u001b[0;32m      3\u001b[0m \u001b[0msUnicos\u001b[0m \u001b[1;33m=\u001b[0m \u001b[1;33m[\u001b[0m\u001b[1;33m]\u001b[0m\u001b[1;33m;\u001b[0m\u001b[1;33m\u001b[0m\u001b[0m\n\u001b[0;32m      4\u001b[0m \u001b[0miUnicos\u001b[0m \u001b[1;33m=\u001b[0m \u001b[1;33m[\u001b[0m\u001b[1;33m]\u001b[0m\u001b[1;33m;\u001b[0m\u001b[1;33m\u001b[0m\u001b[0m\n\u001b[0;32m      5\u001b[0m \u001b[1;32mfor\u001b[0m \u001b[0mx\u001b[0m \u001b[1;32min\u001b[0m \u001b[0msCadenaDist\u001b[0m\u001b[1;33m:\u001b[0m\u001b[1;33m\u001b[0m\u001b[0m\n",
      "\u001b[1;31mNameError\u001b[0m: name 'sCadena' is not defined"
     ]
    }
   ],
   "source": [
    "sCadenaDist = list(sCadena.replace(\" \",\"\"));\n",
    "sCadenaDist.sort();\n",
    "sUnicos = [];\n",
    "iUnicos = [];\n",
    "for x in sCadenaDist:\n",
    "   if x not in sUnicos:\n",
    "       sUnicos.append(x);\n",
    "       iUnicos.append(1);\n",
    "   else:\n",
    "       iUnicos[sUnicos.index(x)] = iUnicos[sUnicos.index(x)] + 1\n",
    "\n",
    "for iContador in range (len(sUnicos)-1):\n",
    "   print(sUnicos[iContador], \" : \", iUnicos[iContador]);\n",
    "   iContador + 1"
   ]
  }
 ],
 "metadata": {
  "kernelspec": {
   "display_name": "Python 2",
   "language": "python",
   "name": "python2"
  },
  "language_info": {
   "codemirror_mode": {
    "name": "ipython",
    "version": 2
   },
   "file_extension": ".py",
   "mimetype": "text/x-python",
   "name": "python",
   "nbconvert_exporter": "python",
   "pygments_lexer": "ipython2",
   "version": "2.7.14"
  }
 },
 "nbformat": 4,
 "nbformat_minor": 2
}
