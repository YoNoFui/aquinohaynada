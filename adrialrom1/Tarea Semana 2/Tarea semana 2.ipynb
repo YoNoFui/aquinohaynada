{
 "cells": [
  {
   "cell_type": "code",
   "execution_count": 10,
   "metadata": {},
   "outputs": [
    {
     "name": "stdout",
     "output_type": "stream",
     "text": [
      "Counter({'c': 7, 'n': 7, 'u': 7, ' ': 6, 'e': 6, 't': 6, 's': 5, 'a': 4, 'o': 4, 'd': 1})\n"
     ]
    }
   ],
   "source": [
    "from collections import Counter\n",
    "cadena='cuando cuentes cuentos cuenta cuantos cuentos cuentas'\n",
    "\n",
    "cuenta=Counter(cadena)\n",
    "print cuenta"
   ]
  },
  {
   "cell_type": "code",
   "execution_count": 13,
   "metadata": {},
   "outputs": [
    {
     "data": {
      "text/plain": [
       "{' ': 20,\n",
       " 'a': 13,\n",
       " 'b': 2,\n",
       " 'c': 15,\n",
       " 'd': 1,\n",
       " 'e': 12,\n",
       " 'i': 1,\n",
       " 'n': 17,\n",
       " 'o': 11,\n",
       " 'p': 1,\n",
       " 'q': 1,\n",
       " 'r': 3,\n",
       " 's': 16,\n",
       " 't': 13,\n",
       " 'u': 15}"
      ]
     },
     "execution_count": 13,
     "metadata": {},
     "output_type": "execute_result"
    }
   ],
   "source": [
    "import string\n",
    "\n",
    "cadena='cuando cuentes cuentos cuenta cuantos cuentos cuentas por que si no cuentas cuantos cuentos cuentas nunca sabras cuantos cuentos sabes contar'\n",
    "{x:cadena.count(x) for x in cadena}"
   ]
  },
  {
   "cell_type": "code",
   "execution_count": null,
   "metadata": {},
   "outputs": [],
   "source": [
    "cadena = raw_input(\"Escriba una cadena de caracteres: \")\n",
    " \n",
    "d = dict()\n",
    " \n",
    "for caracter in cadena:\n",
    "        d[caracter] = d.get(caracter,0) + 1\n",
    "print d"
   ]
  },
  {
   "cell_type": "code",
   "execution_count": null,
   "metadata": {},
   "outputs": [],
   "source": []
  }
 ],
 "metadata": {
  "kernelspec": {
   "display_name": "Python 2",
   "language": "python",
   "name": "python2"
  },
  "language_info": {
   "codemirror_mode": {
    "name": "ipython",
    "version": 2
   },
   "file_extension": ".py",
   "mimetype": "text/x-python",
   "name": "python",
   "nbconvert_exporter": "python",
   "pygments_lexer": "ipython2",
   "version": "2.7.14"
  }
 },
 "nbformat": 4,
 "nbformat_minor": 2
}
