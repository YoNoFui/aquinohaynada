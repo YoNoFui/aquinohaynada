{
 "cells": [
  {
   "cell_type": "markdown",
   "metadata": {},
   "source": [
    "# <center> ¡Bienvenidos a la Semana 2! </center>\n",
    "\n",
    "### Para esta tarea se siguen casi mismos lineamientos empleados en la Tarea de Vacaciones, es decir, se debe crear un directorio que se llama \"Tarea Semana 2\" y dentro debe almacenarse este notebook con la nomenclatura con la salvedad de que si se trata de una pregunta de implementación se debe colocar en ese mismo ejercicio la resolución y si se aborda una pregunta abierta se debe colocar la fuente.\n",
    "\n",
    "### De estas últimas todas deben colocarse en Markdown (siguiendo los lineamientos de visualización) o de lo contrario no se valdrá el crédito."
   ]
  },
  {
   "cell_type": "code",
   "execution_count": 6,
   "metadata": {},
   "outputs": [
    {
     "name": "stdout",
     "output_type": "stream",
     "text": [
      "1 2 3 4 5 \n",
      "\n",
      "6 7 8 9 10 \n",
      "\n",
      "11 12 13 14 15 \n",
      "\n",
      "16 17 18 19 21 "
     ]
    }
   ],
   "source": [
    "#Ejercicio 1\n",
    "#A partir de la siguiente matriz:\n",
    "\n",
    "M = [[1,2,3,4,5],\n",
    "          [6,7,8,9,10],\n",
    "          [11,12,13,14,15],\n",
    "          [16,17,18,19,21]]\n",
    "\n",
    "\"\"\"\n",
    "Imprima los elementos de esta manera:\n",
    "\n",
    "1 2 3 4 5\n",
    "6 7 8 9 10\n",
    "11 12 13 14 15\n",
    "16 17 18 19 20\n",
    "\n",
    "Usando solamente un ciclo (while, for); no hay restricción de if-else, breaks, etc.\n",
    "\"\"\"\n",
    "for x in M:\n",
    "    print(x[0], end = ' ')\n",
    "    print(x[1], end = ' ')\n",
    "    print(x[2], end = ' ')\n",
    "    print(x[3], end = ' ')\n",
    "    print(x[4], end = ' ')\n",
    "    if x[4] % 5 == 0:\n",
    "        print('\\n')"
   ]
  },
  {
   "cell_type": "markdown",
   "metadata": {},
   "source": [
    "## <center> Ejercicio 2. ¿A qué se le conoce como evaluación perezosa?, ¿Python aplica esta característica?. Toda la respuesta alineada a la derecha. </center>\n",
    "\n",
    "https://es.wikipedia.org/wiki/Evaluaci%C3%B3n_perezosa  \n",
    "\n",
    "### <right> La evaluación perezosa </right>\n",
    "\n",
    "<right> En la teoría de lenguajes de programación, La evaluación perezosa (del inglés lazy evaluation) o llamada por necesidad es una estrategia de evaluación que retrasa el cálculo de una expresión hasta que su valor sea necesario, y que también evita repetir la evaluación en caso de ser necesaria en posteriores ocasiones. Esta compartición del cálculo puede reducir el tiempo de ejecución de ciertas funciones de forma exponencial, comparado con otros tipos de evaluación.</right><P></P>\n",
    "\n",
    "<right>Los beneficios de la evaluación perezosa son:</right>\n",
    "\n",
    "  <right>  El incremento en el rendimiento al evitar cálculos innecesarios, y en tratar condiciones de error al evaluar expresiones compuestas.</right><P></P>\n",
    "\n",
    "  <right>  La capacidad de construir estructuras de datos potencialmente infinitas.</right><P></P>\n",
    "\n",
    "   <right> La capacidad de definir estructuras de control como abstracciones, en lugar de operaciones primitivas.</right>\n",
    "<P></P>\n",
    "<right>Este método de evaluación es comúnmente implementado encapsulando cada expresión en una función que, cuando sea computada, devolverá el valor deseado de la expresión. De esta manera, cuando el resultado sea necesitado, la función creada será ejecutada para conseguirlo.</right><P></P>\n",
    "\n",
    "<right>La evaluación perezosa puede también reducir el consumo de memoria de una aplicación, ya que los valores se crean solo cuando se necesitan. Sin embargo, es difícil de combinar con las operaciones típicas de programación imperativa, como el manejo de excepciones o las operaciones de entrada/salida, porque el orden de las operaciones puede quedar indeterminado. Además, la evaluación perezosa puede conducir a fragmentar la memoria.<right><P></P>\n",
    "\n",
    "<right>La evaluación perezosa es frecuentemente combinada con memoización, tal y como lo describe Jon Bentley en Writing Efficient Programs1​ (Escribiendo Programas Eficientes). Después de que el valor de una función sea computado para un parámetro o una serie de estos, el resultado es almacenado en una tabla de consulta que está organizada por los valores de estos parámetros; la próxima vez que se le llama a la función, la tabla es consultada para determinar si el resultado para esa combinación de parámetros está disponible. Si es el caso, la función devuelve dicho resultado. Si no, la función es evaluada y otro elemento es añadido a la tabla para reutilización posterior.</right><P></P>\n",
    "\n",
    "<right>Lo contrario de la evaluación perezosa sería la evaluación acaparadora, o evaluación estricta, que es el modo de evaluación por defecto en la mayoría de los lenguajes de programación.</right><P></P>\n",
    "\n"
   ]
  },
  {
   "cell_type": "code",
   "execution_count": 9,
   "metadata": {},
   "outputs": [
    {
     "name": "stdout",
     "output_type": "stream",
     "text": [
      "enAlgunLugarDeLaManchaDeCuyoNombreNoQuieroAcordarmeOHaMuchoTiempoQueViviaUnHidalgoDeLosDeLanzaEnAstilleroAdargaAntiguaRocinFlacoYGalgoCorredor.\n"
     ]
    }
   ],
   "source": [
    "#Ejercicio 3\n",
    "\n",
    "\"\"\"\n",
    "En general en los lenguajes de programación una de las prácticas recomendadas para nombrar ya sea variables o funciones es\n",
    "el \"Camel Case\" el cual consiste en sustituir posibles espacios con letras mayúsculas (la primera letra de la frase por lo \n",
    "regular no se toma en cuenta), por ejemplo:\n",
    "\n",
    "este es el nombre de mi variable => esteEsElNombreDeMiVariable\n",
    "aqui esta otro nombre para la variable => aquiEstaOtroNombreParaLaVariable\n",
    "\n",
    "¿Por qué Camel? porque la combinación de mayúsculas y minúsculas simulan la joroba de un camello (dato curioso debería de ser\n",
    "un dromedario y no un camello porque el camello tiene una joroba y el dromedario dos ;))\n",
    "\n",
    "Entonces, para este ejercicio teniendo en cuenta esta cadena:\n",
    "\n",
    "En algun lugar de La Mancha de cuyo nombre no quiero acordarme, o ha mucho tiempo que vivia un hidalgo de los de lanza en \n",
    "astillero, adarga antigua, rocin flaco y galgo corredor.\n",
    "\n",
    "Se debe convertir bajo la nomenclatura Camel Case.\n",
    "Para este ejercicio en particular la primera palabra de la frase se deja intacta mientras que los signos de puntuación \n",
    "(exceptuando el último) se deben remover.\n",
    "\n",
    "Sugerencias: las funciones lower() & upper() convierten una letra a minúsculas y mayúsculas respectivamente, si\n",
    "se da el caso de que ya estaban convertidas a los tipos que se deseaban transformar no arroja error.\n",
    "\n",
    "Por otra parte las funciones islower() & isupper() indican si una letra está en su modalidad minúscula o mayúscula\n",
    "respectivamente.\n",
    "\"\"\"\n",
    "\n",
    "cadena = \"En algun lugar de La Mancha de cuyo nombre no quiero acordarme, o ha mucho tiempo que vivia un hidalgo de los de lanza en astillero, adarga antigua, rocin flaco y galgo corredor.\"\n",
    "\n",
    "\n",
    "camel = ''.join(N for N in cadena.title() if N.isalnum())\n",
    "punt = ''.join(N for N in cadena.title() if not N.isalnum())\n",
    "\n",
    "print(camel[0].lower() + camel[1:] + punt.replace(' ','')[-1])\n",
    "\n",
    "\n",
    " "
   ]
  },
  {
   "cell_type": "code",
   "execution_count": 10,
   "metadata": {},
   "outputs": [
    {
     "name": "stdout",
     "output_type": "stream",
     "text": [
      "2\n"
     ]
    }
   ],
   "source": [
    "#Ejercicio 4\n",
    "\n",
    "\"\"\"\n",
    "Se define \"raíz digital\" a la suma recursiva de todos los dígitos de un número hasta llegar a uno solo, por ejemplo\n",
    "\n",
    "raiz_digital(16)\n",
    "=> 1 + 6\n",
    "=> 7\n",
    "\n",
    "raiz_digital(942)\n",
    "=> 9 + 4 + 2\n",
    "=> 15 ...\n",
    "=> 1 + 5\n",
    "=> 6\n",
    "\n",
    "Entonces el objetivo consiste en implementar el algoritmo de la raiz digital y probar con el número 493193, cuyo resultado\n",
    "debe ser 2. Sugerencia: la forma recursiva es la más fácil de implementar.\n",
    "\n",
    "Curso rápido para ingresar funciones en Python; basta con declarar:\n",
    "\n",
    "#En def no hay tipo de retorno de dato como en otros lenuajes.\n",
    "def nombre_funcion(parametro_1,...,parametro_n):\n",
    "    #El return del tipo de dato no cuenta en Python.\n",
    "    return algo\n",
    "\n",
    "\"\"\"\n",
    "def rdig(n):\n",
    "    num= str(n)\n",
    "    sum = 0    \n",
    "    for x in num:\n",
    "        sum += int(x)\n",
    "    return sum\n",
    "\n",
    "raiz = 493193\n",
    "digital = len(str(raiz))\n",
    "\n",
    "if digital == 1:\n",
    "    a = raiz\n",
    "else:\n",
    "    while digital > 1:\n",
    "        a = rdig(raiz)\n",
    "        raiz = a\n",
    "        digital = len(str(a))\n",
    "    \n",
    "print(a)\n",
    "    "
   ]
  },
  {
   "cell_type": "markdown",
   "metadata": {},
   "source": [
    "### <center> Ejercicio 5. ¿A qué se le conoce como paso por valor y paso por referencia?, ¿Python en cuál categoría está clasificado? Respuesta en color azul. </center>\n",
    "\n",
    "    https://es.wikipedia.org/wiki/Argumento_%28inform%C3%A1tica%29  \n",
    "   \n",
    "***\n",
    "<font color=blue>    \n",
    "Paso por valor</font>\n",
    "<p></p>\n",
    "<font color=blue>\n",
    "El paso de parámetros por valor consiste en copiar el contenido de la variable que queremos pasar en otra dentro del ámbito local de la subrutina, consiste pues en copiar el contenido de la memoria del argumento que se quiere pasar a otra dirección de memoria, correspondiente al argumento dentro del ámbito de dicha subrutina. Se tendrán dos valores duplicados e independientes, con lo que la modificación de uno no afecta al otro.</font>\n",
    "\n",
    "<p></p>\n",
    "<font color=blue>Paso por referencia</font>\n",
    "<p></p>\n",
    "<font color=blue>\n",
    "El paso de parámetros por referencia consiste en proporcionar a la subrutina a la que se le quiere pasar el argumento la dirección de memoria del dato. En este caso se tiene un único valor referenciado (o apuntado) desde dos puntos diferentes, el programa principal y la subrutina a la que se le pasa el argumento, por lo que cualquier acción sobre el parámetro se realiza sobre la misma posición de memoria.</font><p></p>\n",
    "<font color=blue>\n",
    "El paso de la dirección de memoria debe ser transparente al programador. Los lenguajes que permiten tratar con direcciones de memoria, como C, permiten simular el paso de argumentos por referencia, sin disponer realmente de esta característica.</font>"
   ]
  },
  {
   "cell_type": "markdown",
   "metadata": {},
   "source": [
    "### <center> Ejercicio 6. En el argot de computación, ¿a qué se le conoce como herencia?, ¿Python de cuál tipo maneja? Para colocar los tipos de herencia, hágalo usando un listado sencillo </center>\n",
    "\n",
    "## <center> <font color=green>HERENCIA</font></center>\n",
    "\n",
    "***\n",
    "\n",
    "<font color=green>\n",
    "    \n",
    "http://www.pythondiario.com/2016/10/herencia-y-polimorfismo-en-python.html<p></p>\n",
    "    \n",
    " Herencia y Polimorfismo en Python (Ejemplo Simple)\n",
    "</font><p></p>\n",
    "\n",
    "<font color=green>\n",
    "La herencia en Python nos permite a los programadores crear una clase general primero y luego más tarde crear clases más especializadas que re utilicen código de la clase general. La herencia también nos permite escribir un código más limpio y legible.</font><p></p>\n",
    "\n",
    "<font color=green>Herencia en Python</font><p></p>\n",
    "<font color=green>\n",
    "La herencia es utilizada (como su nombre lo indica) para heredar: campos de datos, métodos de acceso de otra clase, ademas de poder añadir nuestros propios métodos y campos. Por lo tanto la herencia nos proporciona una manera de organizar el código para no tener que volver a repetir código.</font><p></p>\n",
    "<font color=green>\n",
    "En la terminología orientada a objetos, cuando la clase \"X\" es heredada por la clase \"Y\", \"X\" es llamada Super Clase o Clase Base e \"Y\" es llamada Subclase o Clase Derivada. Un dato más a tener en cuenta es que solo los campos y métodos que no son privados son accesibles por la Clase Derivada. Los campos y métodos privados solo son accesibles por la propia clase.</font><p></p>\n",
    "<font color=green>\n",
    "Si eres nuevo en la Programación Orientada a Objetos, puedes pasarte por la entrada que escribí ya hace algún tiempo: Clases y Objetos en Python</font><p></p>\n",
    "<font color=green>\n",
    "Los ejemplos que dejo más abajo fueron realizados con Python 3. Si trabajas con Python 2.7 y te da pereza instalar la versión 3 para hacer pruebas y modificaciones a los ejemplos dados, puedes probar en línea en el siguiente link: </font><p></p>\n",
    "<font color=green>\n",
    " Herencia Múltiple\n",
    "</font><p></p>\n",
    "<font color=green>\n",
    "A diferencia de lenguajes como Java y C#, Python permite la herencia múltiple, es decir, se puede heredar de múltiples clases.<font color=green>\n",
    "</font>\n"
   ]
  },
  {
   "cell_type": "code",
   "execution_count": 13,
   "metadata": {},
   "outputs": [
    {
     "name": "stdout",
     "output_type": "stream",
     "text": [
      "['H', 'C', 'M', 'M', 'C', 'H', 'C', 'M', 'M', 'M', 'C', 'H', 'C', 'M', 'C', 'H', 'H', 'C', 'M', 'C', 'H', 'C', 'M', 'C', 'H', 'C', 'M', 'C', 'H', 'C', 'M', 'M', 'C', 'H', 'C', 'M', 'C', 'H', 'C', 'M', 'M', 'C', 'H', 'C', 'M', 'C', 'H', 'C', 'M', 'C', 'H', 'H', 'C', 'M', 'M', 'C', 'H', 'C', 'M', 'C', 'H', 'C', 'M', 'M', 'C', 'H', 'C', 'M', 'C', 'H', 'C', 'M', 'C', 'H', 'C', 'M', 'C', 'H', 'C', 'M', 'C', 'H', 'C', 'M']\n"
     ]
    }
   ],
   "source": [
    "#Ejercicio 7\n",
    "\n",
    "\"\"\"\n",
    "Suponga que nos encontramos en una fiesta de graduación de preparatoria, de aquéllas lindas de antaño y no\n",
    "una conjunción de pecado como American Pie.\n",
    "\n",
    "También asumamos que existen 3 tipos de personas (no nos metemos con faltas a la suposición de género): hombres (H)\n",
    "mujeres(M) y chaperones (C).\n",
    "\n",
    "Como su nombre lo dice, un chaperón debe interponerse entre un hombre y una mujer para que no existan situaciones \n",
    "lascivas. Para nuestro caso, teniendo una reunión (lista) del tipo:\n",
    "\n",
    "[H,M,H,M,H,M,H,M,H,M,H,M]\n",
    "\n",
    "Deben colocarse chaperones cada vez que se encuentren una correspondencia del tipo HM o MH, \n",
    "en nuestro caso la solución sería:\n",
    "\n",
    "[H,C,M,C,H,C,M,C,H,C,M,C,H,C,M,C,H,C,M,C,H,C,M]\n",
    "\n",
    "Aunque lo anterior es sólo un ejemplo pueden darse casos en el que existan parejas MM y HH.\n",
    "\n",
    "Entonces, ¿en qué consiste el ejercicio?, en que dada la siguiente reunión (lista):\n",
    "\n",
    "[H,M,M,H,M,M,M,H,M,H,H,M,H,M,H,M,H,M,M,H,M,H,M,M,H,M,H,M,H,H,M,M,H,M,H,M,M,H,M,H,M,H,M,H,M,H,M]\n",
    "\n",
    "Se debe imprimir una lista resultado con todos los chaperones puestos apropiadamente para evitar la situación lasciva\n",
    "mencionada.\n",
    "\"\"\"\n",
    "n_l = []\n",
    "l = [\"H\",\"M\",\"M\",\"H\",\"M\",\"M\",\"M\",\"H\",\"M\",\"H\",\"H\",\"M\",\"H\",\"M\",\"H\",\"M\",\"H\",\"M\",\"M\",\"H\",\"M\",\"H\",\"M\",\"M\",\"H\",\"M\",\"H\",\"M\",\"H\",\"H\",\"M\",\"M\",\"H\",\"M\",\"H\",\"M\",\"M\",\"H\",\"M\",\"H\",\"M\",\"H\",\"M\",\"H\",\"M\",\"H\",\"M\"]\n",
    "for x in range(len(l)):\n",
    "    if x != 0:\n",
    "        if (l[x] != l[x - 1]) :            \n",
    "            n_l.append(\"C\")\n",
    "            n_l.append(l[x])\n",
    "        else:\n",
    "            n_l.append(l[x])\n",
    "    else:\n",
    "        n_l.append(l[x])\n",
    "\n",
    "print(n_l)\n"
   ]
  },
  {
   "cell_type": "markdown",
   "metadata": {},
   "source": [
    "### <center> Ejercicio 8. ¿Qué entiende por paradigma de lenguaje de programación y cuáles son sus clasificaciones, ¿Python en cuál(es) categoría(s) puede entrar? Toda la respuesta en color café, por cada clasificación use un listado numérico. </center>\n",
    "\n",
    "## <center><font color=brown> PARADIGMA DE PROGRAMACION  </font></center>\n",
    "<font color=brown> https://es.wikipedia.org/wiki/Paradigma_de_programaci%C3%B3n</font> <p></p>\n",
    "***\n",
    "\n",
    "<font color=brown> \n",
    "    \n",
    "Un paradigma de programación es una propuesta tecnológica adoptada por una comunidad de programadores y desarrolladores cuyo núcleo central es incuestionable en cuanto que únicamente trata de resolver uno o varios problemas claramente delimitados; la resolución de estos problemas debe suponer consecuentemente un avance significativo en al menos un parámetro que afecte a la ingeniería de software.</font> <p></p>\n",
    "\n",
    "<font color=brown> Un paradigma de programación representa un enfoque particular o filosofía para diseñar soluciones. Los paradigmas difieren unos de otros, en los conceptos y la forma de abstraer los elementos involucrados en un problema, así como en los pasos que integran su solución del problema, en otras palabras, el cómputo.</font> <p></p>\n",
    "\n",
    "<font color=brown> Tiene una estrecha relación con la formalización de determinados lenguajes en su momento de definición. Es un estilo de programación empleado.</font> <p></p>\n",
    "\n",
    "<font color=brown> Un paradigma de programación está delimitado en el tiempo en cuanto a aceptación y uso, porque nuevos paradigmas aportan nuevas o mejores soluciones que la sustituyen parcial o totalmente.</font> <p></p>\n",
    "\n",
    "<font color=brown> El paradigma de programación que actualmente es el más utilizado es la \"orientación a objetos\" (OO). El núcleo central de este paradigma es la unión de datos y procesamiento en una entidad llamada \"objeto\", relacionable a su vez con otras entidades \"objeto\".</font> <p></p>\n",
    "\n",
    "<font color=brown> Tradicionalmente, datos y procesamiento se han separado en áreas diferente del diseño y la implementación de software. Esto provocó que grandes desarrollos tuvieran problemas de fiabilidad, mantenimiento, adaptación a los cambios y escalabilidad. Con la OO y características como el encapsulado, polimorfismo o la herencia, se permitió un avance significativo en el desarrollo de software a cualquier escala de producción. La OO parece estar ligada en sus orígenes con lenguajes como Lisp y Simula, aunque el primero que acuñó el título de \"programación orientada a objetos\" fue Smalltalk.</font> <p></p>\n",
    "\n",
    "<font color=brown> Tipos más comunes de paradigmas de programación</font> <p></p>\n",
    "\n",
    "<font color=brown> En general la mayoría son variantes de los dos tipos principales, imperativa y declarativa:</font> <p></p>\n",
    "\n",
    "-<font color=brown> Programación imperativa o por procedimientos: es el más usado en general, se basa en dar instrucciones al ordenador de como hacer las cosas en forma de algoritmos. La programación imperativa es la más usada y la más antigua, el ejemplo principal es el lenguaje de máquina. Ejemplos de lenguajes puros de este paradigma serían el C, BASIC o Pascal.</font> <p></p>\n",
    " -<font color=brown>   Programación orientada a objetos: está basada en el imperativo, pero encapsula elementos denominados objetos que incluyen tanto variables como funciones. Está representado por C++, C#, Java o Python entre otros, pero el más representativo sería el Smalltalk que está completamente orientado a objetos.</font> <p></p>\n",
    "-<font color=brown>    Programación dinámica: está definida como el proceso de romper problemas en partes pequeñas para analizarlos y resolverlos de forma lo más cercana al óptimo, busca resolver problemas en O(n) sin usar por tanto métodos recursivos. Este paradigma está más basado en el modo de realizar los algoritmos, por lo que se puede usar con cualquier lenguaje imperativo.</font> <p></p>\n",
    " -<font color=brown>   Programación dirigida por eventos: la programación dirigida por eventos es un paradigma de programación en el que tanto la estructura como la ejecución de los programas van determinados por los sucesos que ocurran en el sistema, definidos por el usuario o que ellos mismos provoquen.</font> <p></p>\n",
    "-<font color=brown>    Programación declarativa: está basado en describir el problema declarando propiedades y reglas que deben cumplirse, en lugar de instrucciones. Hay lenguajes para la programación funcional, la programación lógica, o la combinación lógico-funcional. Unos de los primeros lenguajes funcionales fueron Lisp y Prolog.</font> <p></p>\n",
    " -<font color=brown>   Programación funcional: basada en la definición los predicados y es de corte más matemático, está representado por Scheme (una variante de Lisp) o Haskell. Python también representa este paradigma. </font> <p></p>\n",
    " -<font color=brown>   Programación lógica: basado en la definición de relaciones lógicas, está representado por Prolog.</font> <p></p>\n",
    "-<font color=brown>    Programación con restricciones: similar a la lógica usando ecuaciones. Casi todos los lenguajes son variantes del Prolog.</font> <p></p>\n",
    "-<font color=brown>    Programación multiparadigma: es el uso de dos o más paradigmas dentro de un programa. El lenguaje Lisp se considera multiparadigma. Al igual que Python, que es orientado a objetos, reflexivo, imperativo y funcional.</font> <p></p>\n",
    "  -<font color=brown>  Programación reactiva: Este paradigma se basa en la declaración de una serie de objetos emisores de eventos asíncronos y otra serie de objetos que se \"suscriben\" a los primeros (es decir, quedan a la escucha de la emisión de eventos de estos) y *reaccionan* a los valores que reciben. Es muy común usar la librería Rx de Microsoft (Acrónimo de Reactive Extensions), disponible para múltiples lenguajes de programación.\n",
    "    Lenguaje específico del dominio o DSL: se denomina así a los lenguajes desarrollados para resolver un problema específico, pudiendo entrar dentro de cualquier grupo anterior. El más representativo sería SQL para el manejo de las bases de datos, de tipo declarativo, pero los hay imperativos, como el Logo.</font> <p></p>\n",
    "    \n",
    "\n",
    "<font color=brown> Si bien puede seleccionarse la forma pura de estos paradigmas al momento de programar, en la práctica es habitual que se mezclen, dando lugar a la programación multiparadigma o lenguajes de programación multiparadigma.</font> <p></p>\n",
    "\n",
    "\n"
   ]
  },
  {
   "cell_type": "code",
   "execution_count": 14,
   "metadata": {},
   "outputs": [],
   "source": [
    "#Ejercicio 9\n",
    "\n",
    "\"\"\"\n",
    "Con base en el archivo ejercicio_5.txt de la tarea anterior cree un dataframe de Pandas considerando \n",
    "el encabezado, por ahora no se preocupe del tipo de dato.\n",
    "\"\"\"\n",
    "import pandas as pd\n",
    "dataframe = pd.read_csv(\"/home/cloudera/ejercicio_5.txt\")"
   ]
  },
  {
   "cell_type": "code",
   "execution_count": 15,
   "metadata": {},
   "outputs": [],
   "source": [
    "#Ejercicio 10\n",
    "\n",
    "\"\"\"Tome el dataframe de Pandas del ejercicio anterior, guárdelo como un archivo de tipo .pickle con el nombre:\n",
    "<su_usuario_de_git> y colóquelo en el subdirectorio \"Tarea Semana 2\" \n",
    "\"\"\"\n",
    "import pickle\n",
    "\n",
    "pickle.dump(dataframe, open(\"Atorresc.p\",\"wb\"))"
   ]
  },
  {
   "cell_type": "markdown",
   "metadata": {},
   "source": [
    "## <center> Los siguientes ejercicios son los puntos extra tal y como se acordó de acuerdo a las preguntas debidamente contestadas, excepto para aquéllos que tienen que cumplir la penalización. </center> "
   ]
  },
  {
   "cell_type": "code",
   "execution_count": null,
   "metadata": {
    "collapsed": true
   },
   "outputs": [],
   "source": [
    "#Ejercicio 11 \n",
    "\n",
    "\"\"\"\n",
    "Para este ejercicio se debe implementar un programa que tome el lenguaje natural y lo convierta a código Morse:\n",
    "\n",
    "https://www.electronics-notes.com/articles/ham_radio/morse_code/characters-table-chart.php\n",
    "\n",
    "Usando solamente un ciclo for/while; if-else y demás no tienen limitantes.\n",
    "\n",
    "Para las pruebas de traducción exitosa se puede ocupar este ejemplo:\n",
    "\n",
    "Creo que aquello en lo que nos convertimos depende de lo que nuestros padres nos enseñan en pequeños momentos, \n",
    "cuando no están intentando enseñarnos. Estamos hechos de pequeños fragmentos de sabiduría.\n",
    "\n",
    "Y el siguiente sitio:\n",
    "\n",
    "https://morsecode.scphillips.com/translator.html?utm_source=hootsuite\n",
    "\n",
    "NOTA: puede deshacerse de los signos de puntuación pero no de las letras acentuadas, por otro lado las mayúsculas \n",
    "y minúsculas se comportan igual (upper(), lower()).\n",
    "En este caso puede convertir las letras \"á\" ó \"à\" o \"â\" por \"a\" y la \"ñ\" por \"n\".\n"
   ]
  },
  {
   "cell_type": "code",
   "execution_count": null,
   "metadata": {
    "collapsed": true
   },
   "outputs": [],
   "source": [
    "#Ejercicio 12\n",
    "\n",
    "\"\"\"\n",
    "Para repasar el uso de funciones recursivas, implemente la función de Ackerman. Muestre en pantalla el resultado de :\n",
    "\n",
    "ackerman(3,4)\n",
    "\n",
    "NOTA: puede crear una función (precisamente llamada ackerman) para una mejor presentación del código.\n",
    "\"\"\"\n"
   ]
  },
  {
   "cell_type": "code",
   "execution_count": null,
   "metadata": {
    "collapsed": true
   },
   "outputs": [],
   "source": [
    "#Ejercicio 13. \n",
    "\n",
    "\"\"\"\n",
    "Investigue e implemente la criba de Eratóstenes; hágase valer de todas las funcionalidades vistas \n",
    "hasta ahora (if-else, while, for, diccionarios, listas, etc.)\n",
    "NOTA: para este ejercicio debe colocar 2 casillas, una para la explicación del tema EN MARKDOWN \n",
    "y la otra para la implementación del mismo.\n",
    "\"\"\""
   ]
  },
  {
   "cell_type": "markdown",
   "metadata": {},
   "source": [
    "# <center> ¡Mucho éxito! </center> "
   ]
  },
  {
   "cell_type": "code",
   "execution_count": null,
   "metadata": {
    "collapsed": true
   },
   "outputs": [],
   "source": []
  }
 ],
 "metadata": {
  "kernelspec": {
   "display_name": "Python 3",
   "language": "python",
   "name": "python3"
  },
  "language_info": {
   "codemirror_mode": {
    "name": "ipython",
    "version": 3
   },
   "file_extension": ".py",
   "mimetype": "text/x-python",
   "name": "python",
   "nbconvert_exporter": "python",
   "pygments_lexer": "ipython3",
   "version": "3.6.5"
  }
 },
 "nbformat": 4,
 "nbformat_minor": 2
}
