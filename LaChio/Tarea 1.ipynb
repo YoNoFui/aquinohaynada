{
 "cells": [
  {
   "cell_type": "code",
   "execution_count": 19,
   "metadata": {},
   "outputs": [
    {
     "name": "stdout",
     "output_type": "stream",
     "text": [
      "['c', 'u', 'a', 'n', 'd', 'o', 'e', 't', 's']\n",
      "[4, 4, 2, 4, 1, 2, 4, 3, 3]\n"
     ]
    }
   ],
   "source": [
    "t1 = \"cuando cuentes cuentos cuentas\"\n",
    "letras = []\n",
    "frecuencia = []\n",
    "\n",
    "for x in range(len(t1)):\n",
    "    letra = t1[x]\n",
    "    if letra not in letras and letra != ' ':\n",
    "        letras.append(t1[x])\n",
    "\n",
    "for x in range(len(letras)):\n",
    "    frecuencia.append(0)\n",
    "\n",
    "for x in range(len(letras)):\n",
    "    for y in range (len(t1)):\n",
    "        if t1[y] == letras[x]:\n",
    "            frecuencia [x] += 1\n",
    "\n",
    "print(letras)\n",
    "print(frecuencia)"
   ]
  },
  {
   "cell_type": "code",
   "execution_count": 10,
   "metadata": {},
   "outputs": [
    {
     "name": "stdout",
     "output_type": "stream",
     "text": [
      "{'c': 15, 'u': 15, 'a': 13, 'n': 17, 'd': 1, 'o': 11, ' ': 20, 'e': 12, 't': 13, 's': 16, 'p': 1, 'r': 3, 'q': 1, 'i': 1, 'b': 2}\n"
     ]
    }
   ],
   "source": [
    "t2 = \"cuando cuentes cuentos cuenta cuantos cuentos cuentas por que si no cuentas cuantos cuentos cuentas nunca sabras cuantos cuentos sabes contar\"\n",
    "letras = {}\n",
    "\n",
    "for x in range(len(t2)):\n",
    "    letra = t2[x]\n",
    "    if letra in letras:\n",
    "        letras[letra] += 1\n",
    "    else:\n",
    "        letras[letra] = 1\n",
    "        \n",
    "print(letras)"
   ]
  }
 ],
 "metadata": {
  "kernelspec": {
   "display_name": "Python 3",
   "language": "python",
   "name": "python3"
  },
  "language_info": {
   "codemirror_mode": {
    "name": "ipython",
    "version": 3
   },
   "file_extension": ".py",
   "mimetype": "text/x-python",
   "name": "python",
   "nbconvert_exporter": "python",
   "pygments_lexer": "ipython3",
   "version": "3.6.5"
  }
 },
 "nbformat": 4,
 "nbformat_minor": 2
}
