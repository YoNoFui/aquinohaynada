{
 "cells": [
  {
   "cell_type": "markdown",
   "metadata": {},
   "source": [
    "# Contador de repeticion de letras de una lista"
   ]
  },
  {
   "cell_type": "code",
   "execution_count": 88,
   "metadata": {},
   "outputs": [
    {
     "name": "stdout",
     "output_type": "stream",
     "text": [
      "a  :  4\n",
      "c  :  7\n",
      "d  :  1\n",
      "e  :  6\n",
      "n  :  7\n",
      "o  :  4\n",
      "s  :  5\n",
      "t  :  6\n"
     ]
    }
   ],
   "source": [
    "sCadena = \"cuando cuentes cuentos cuenta cuantos cuentos cuentas\"\n",
    "sUnicos = [];\n",
    "iUnicos = [];\n",
    "\n",
    "sCadenaDist = list(sCadena.replace(\" \",\"\"));\n",
    "sCadenaDist.sort();\n",
    "\n",
    "for x in sCadenaDist:\n",
    "    if x not in sUnicos:\n",
    "        sUnicos.append(x);\n",
    "        iUnicos.append(1);\n",
    "    else:\n",
    "        iUnicos[sUnicos.index(x)] = iUnicos[sUnicos.index(x)] + 1\n",
    "\n",
    "#PINTANDO EL RESULTADO\n",
    "for iContador in range (len(sUnicos)-1):\n",
    "    print(sUnicos[iContador], \" : \", iUnicos[iContador]);\n",
    "    iContador + 1"
   ]
  },
  {
   "cell_type": "code",
   "execution_count": null,
   "metadata": {},
   "outputs": [],
   "source": []
  }
 ],
 "metadata": {
  "kernelspec": {
   "display_name": "Python 3",
   "language": "python",
   "name": "python3"
  },
  "language_info": {
   "codemirror_mode": {
    "name": "ipython",
    "version": 3
   },
   "file_extension": ".py",
   "mimetype": "text/x-python",
   "name": "python",
   "nbconvert_exporter": "python",
   "pygments_lexer": "ipython3",
   "version": "3.6.4"
  }
 },
 "nbformat": 4,
 "nbformat_minor": 2
}
